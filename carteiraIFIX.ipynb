{
 "cells": [
  {
   "cell_type": "code",
   "execution_count": 1,
   "metadata": {},
   "outputs": [],
   "source": [
    "carteira = [\n",
    "\"BBPO11\",\"BCFF11\",\"BRCO11\",\"BRCR11\",\"BTLG11\",\"CPTS11\",\"DEVA11\",\"HCTR11\",\"HFOF11\",\n",
    "\"HGBS11\",\"HGCR11\",\"HGLG11\",\"HGRE11\",\"HGRU11\",\"HSML11\",\"IRDM11\",\"JSRE11\",\"KNCR11\",\n",
    "\"KNHY11\",\"KNIP11\",\"KNRI11\",\"KNSC11\",\"LVBI11\",\"MCCI11\",\"MXRF11\",\"RBRR11\",\"RBVA11\",\n",
    "\"RECR11\",\"TGAR11\",\"TRXF11\",\"URPR11\",\"VCJR11\",\"VILG11\",\"VISC11\",\"VRTA11\",\"XPLG11\",\n",
    "\"XPML11\"\n",
    "]"
   ]
  }
 ],
 "metadata": {
  "kernelspec": {
   "display_name": "Python 3",
   "language": "python",
   "name": "python3"
  },
  "language_info": {
   "codemirror_mode": {
    "name": "ipython",
    "version": 3
   },
   "file_extension": ".py",
   "mimetype": "text/x-python",
   "name": "python",
   "nbconvert_exporter": "python",
   "pygments_lexer": "ipython3",
   "version": "3.10.6"
  },
  "orig_nbformat": 4
 },
 "nbformat": 4,
 "nbformat_minor": 2
}
