{
 "cells": [
  {
   "cell_type": "markdown",
   "metadata": {},
   "source": [
    "https://curlconverter.com/"
   ]
  },
  {
   "cell_type": "code",
   "execution_count": 1,
   "metadata": {},
   "outputs": [],
   "source": [
    "#Site IPCA (para cálculo da inflação)\n",
    "import requests\n",
    "\n",
    "cookies = {\n",
    "    '__oagr': 'true',\n",
    "    '__cf_bm': 'X60SjIHZ5YtO7BPpYlCCs7Mv1gR2IxbI2mW0FHxzQlE-1660232089-0-AeeWaISXkyhryQLI4GmMNSecdFGOdgbj3T/4/5S3TpncYhqAFmPHXz/3LSp23fxg8EJvA7a8ZTmuDPsuLjGSvK0fMs89NEdytJLP5ZfGso+U9lSaCs4gJ5GkYlFiv2zTBw==',\n",
    "    'clever-last-tracker-51039': '1',\n",
    "    'clever-counter-51039': '0-1',\n",
    "    '_gid': 'GA1.2.1237528958.1660232091',\n",
    "    '__gpi': 'UID=0000057078bdaf56:T=1660232090:RT=1660232090:S=ALNI_Mb766mJZbLaFZttVS5S-XJ7Kf7Pmg',\n",
    "    '_pbjs_userid_consent_data': '6683316680106290',\n",
    "    '_sharedID': '8050dfaa-000c-4635-85f3-c30090c7e818',\n",
    "    'unifiedid': '%7B%22TDID%22%3A%227bbd4454-f6a1-4c76-9caa-0cd8ea2ac51c%22%2C%22TDID_LOOKUP%22%3A%22TRUE%22%2C%22TDID_CREATED_AT%22%3A%222022-07-11T15%3A34%3A55%22%7D',\n",
    "    'cto_bidid': 'KGoM7183Q0Z3c2JSUnFpZGxoY1V5YXNlVTBpMEFXbm1yWEtYWjJNNHVkeVplUkFMRDFHdWVPQXN3Rzd2b2lxaFhBJTJGN0ZlandWbXM1aEglMkI3dU1YMzJlVFAxWmo4NTcyOFo3TE41VnR1QWRWclpZcSUyRjB2eVU3MFo3Zk5uRmQwdmdxbkJxTw',\n",
    "    'cto_bundle': 'sZD_c181JTJCOEM4Vmx1UWlkaGdnVUpERXRUN3BNcEt2azFDUTNJZHNvenRKRDcxSlNiaENPdHg0MXNhTjhJQWIlMkJEbTdwSkRqTVlEVE1zcE50ZUlkRFpoJTJGZFB0JTJCUWRMSHpFV0s3ekp4bTFETFFBOXRSaGFmd2Z6WEZ3ekk0a1U0NXdIaUduajMlMkYlMkJyJTJCTXJQbGtWenJlc25KZnA4MHNySmRvTUpzRlhlMHNUUGZVMmwxUSUzRA',\n",
    "    '_gat_gtag_UA_16509510_1': '1',\n",
    "    '_ga_744CV3E27J': 'GS1.1.1660232091.1.1.1660232264.59',\n",
    "    '_ga': 'GA1.1.1781063995.1660232091',\n",
    "    '__gads': 'ID=6212fd217548dcf7-22f0ae28957c008d:T=1660232090:RT=1660232264:S=ALNI_MavltA_Ep8NH_bjWBHo5jmM7uLw6w',\n",
    "    '_ga_SNH2SC3JGN': 'GS1.1.1660232091.1.1.1660232265.0',\n",
    "    'MgidStorage': '%7B%220%22%3A%7B%22svspr%22%3A%22https%3A%2F%2Fwww.google.com%2F%22%2C%22svsds%22%3A2%7D%2C%22C1245110%22%3A%7B%22page%22%3A2%2C%22time%22%3A1660232266422%7D%7D',\n",
    "}\n",
    "\n",
    "headers = {\n",
    "    'Host': 'www.portalbrasil.net',\n",
    "    # Requests sorts cookies= alphabetically\n",
    "    # 'Cookie': '__oagr=true; __cf_bm=X60SjIHZ5YtO7BPpYlCCs7Mv1gR2IxbI2mW0FHxzQlE-1660232089-0-AeeWaISXkyhryQLI4GmMNSecdFGOdgbj3T/4/5S3TpncYhqAFmPHXz/3LSp23fxg8EJvA7a8ZTmuDPsuLjGSvK0fMs89NEdytJLP5ZfGso+U9lSaCs4gJ5GkYlFiv2zTBw==; clever-last-tracker-51039=1; clever-counter-51039=0-1; _gid=GA1.2.1237528958.1660232091; __gpi=UID=0000057078bdaf56:T=1660232090:RT=1660232090:S=ALNI_Mb766mJZbLaFZttVS5S-XJ7Kf7Pmg; _pbjs_userid_consent_data=6683316680106290; _sharedID=8050dfaa-000c-4635-85f3-c30090c7e818; unifiedid=%7B%22TDID%22%3A%227bbd4454-f6a1-4c76-9caa-0cd8ea2ac51c%22%2C%22TDID_LOOKUP%22%3A%22TRUE%22%2C%22TDID_CREATED_AT%22%3A%222022-07-11T15%3A34%3A55%22%7D; cto_bidid=KGoM7183Q0Z3c2JSUnFpZGxoY1V5YXNlVTBpMEFXbm1yWEtYWjJNNHVkeVplUkFMRDFHdWVPQXN3Rzd2b2lxaFhBJTJGN0ZlandWbXM1aEglMkI3dU1YMzJlVFAxWmo4NTcyOFo3TE41VnR1QWRWclpZcSUyRjB2eVU3MFo3Zk5uRmQwdmdxbkJxTw; cto_bundle=sZD_c181JTJCOEM4Vmx1UWlkaGdnVUpERXRUN3BNcEt2azFDUTNJZHNvenRKRDcxSlNiaENPdHg0MXNhTjhJQWIlMkJEbTdwSkRqTVlEVE1zcE50ZUlkRFpoJTJGZFB0JTJCUWRMSHpFV0s3ekp4bTFETFFBOXRSaGFmd2Z6WEZ3ekk0a1U0NXdIaUduajMlMkYlMkJyJTJCTXJQbGtWenJlc25KZnA4MHNySmRvTUpzRlhlMHNUUGZVMmwxUSUzRA; _gat_gtag_UA_16509510_1=1; _ga_744CV3E27J=GS1.1.1660232091.1.1.1660232264.59; _ga=GA1.1.1781063995.1660232091; __gads=ID=6212fd217548dcf7-22f0ae28957c008d:T=1660232090:RT=1660232264:S=ALNI_MavltA_Ep8NH_bjWBHo5jmM7uLw6w; _ga_SNH2SC3JGN=GS1.1.1660232091.1.1.1660232265.0; MgidStorage=%7B%220%22%3A%7B%22svspr%22%3A%22https%3A%2F%2Fwww.google.com%2F%22%2C%22svsds%22%3A2%7D%2C%22C1245110%22%3A%7B%22page%22%3A2%2C%22time%22%3A1660232266422%7D%7D',\n",
    "    'pragma': 'no-cache',\n",
    "    'cache-control': 'no-cache',\n",
    "    'sec-ch-ua': '\"Chromium\";v=\"104\", \" Not A;Brand\";v=\"99\", \"Google Chrome\";v=\"104\"',\n",
    "    'sec-ch-ua-mobile': '?0',\n",
    "    'sec-ch-ua-platform': '\"Windows\"',\n",
    "    'dnt': '1',\n",
    "    'upgrade-insecure-requests': '1',\n",
    "    'user-agent': 'Mozilla/5.0 (Windows NT 10.0; Win64; x64) AppleWebKit/537.36 (KHTML, like Gecko) Chrome/104.0.0.0 Safari/537.36',\n",
    "    'accept': 'text/html,application/xhtml+xml,application/xml;q=0.9,image/avif,image/webp,image/apng,*/*;q=0.8,application/signed-exchange;v=b3;q=0.9',\n",
    "    'sec-fetch-site': 'cross-site',\n",
    "    'sec-fetch-mode': 'navigate',\n",
    "    'sec-fetch-user': '?1',\n",
    "    'sec-fetch-dest': 'document',\n",
    "    'referer': 'https://www.google.com/',\n",
    "    'accept-language': 'pt-BR,pt;q=0.9,en-US;q=0.8,en;q=0.7',\n",
    "}\n",
    "\n",
    "responseIPCA = requests.get('https://www.portalbrasil.net/ipca/', cookies=cookies, headers=headers)"
   ]
  },
  {
   "cell_type": "code",
   "execution_count": 2,
   "metadata": {},
   "outputs": [
    {
     "data": {
      "text/plain": [
       "10.0692"
      ]
     },
     "execution_count": 2,
     "metadata": {},
     "output_type": "execute_result"
    }
   ],
   "source": [
    "from bs4 import BeautifulSoup\n",
    "pagina = BeautifulSoup(responseIPCA.text,'html.parser')\n",
    "tabelaBody = pagina.find_all('table', attrs={'id' : 'tb'})\n",
    "inflacao12M = float(tabelaBody[0].find_all('tr')[3].find_all('td')[3].text.replace(',','.'))\n",
    "inflacao12M"
   ]
  },
  {
   "cell_type": "code",
   "execution_count": 3,
   "metadata": {},
   "outputs": [],
   "source": [
    "cookies = {\n",
    "    '__utmz': '138951332.1660142488.1.1.utmcsr=(direct)|utmccn=(direct)|utmcmd=(none)',\n",
    "    '_fbp': 'fb.2.1660142488348.1191046686',\n",
    "    '_qn': '1',\n",
    "    'cto_bundle': 'VebMK19PZmF2SG04empBRUxlRTNGdnNTZWFqanZ1R0tXUUc1N1NwUDJnY3dRNkRBSFo0WXFobkthSkt3R2hRWmx5Vnd2MkJpcUFTMnVWS01Vcm16TSUyQlVpR0FkZDA2NHdOdzc4NiUyQk9ydnZYY3RKaFpIUFFYN29zeDJmZ3hFWmk3dVdxdTRRMGNtWFRQJTJGRHVWYlowM01uOGVhd2tod1RvSmdtMldTRUROZzQ2VnNTVm8lM0Q',\n",
    "    '_uac': '1660185417',\n",
    "    'PHPSESSID': '88c0cf143ce50a16cb145ce801f02042',\n",
    "    '__utmc': '138951332',\n",
    "    '__gads': 'ID=b72c7f64ff0eed03:T=1660142488:S=ALNI_MZOMl2wLWKK1PkfpsQlEMXCFP0rZQ',\n",
    "    '__gpi': 'UID=000005705a19ab1f:T=1660142488:RT=1660226675:S=ALNI_MbiBFj7sczvIEcovG6Rqp-_TzsejA',\n",
    "    '__utma': '138951332.1737302757.1660142488.1660226675.1660229253.4',\n",
    "    '__utmt': '1',\n",
    "    '__utmb': '138951332.1.10.1660229253',\n",
    "}\n",
    "\n",
    "headers = {\n",
    "    'Host': 'fundamentus.com.br',\n",
    "    # Requests sorts cookies= alphabetically\n",
    "    # 'Cookie': '__utmz=138951332.1660142488.1.1.utmcsr=(direct)|utmccn=(direct)|utmcmd=(none); _fbp=fb.2.1660142488348.1191046686; _qn=1; cto_bundle=VebMK19PZmF2SG04empBRUxlRTNGdnNTZWFqanZ1R0tXUUc1N1NwUDJnY3dRNkRBSFo0WXFobkthSkt3R2hRWmx5Vnd2MkJpcUFTMnVWS01Vcm16TSUyQlVpR0FkZDA2NHdOdzc4NiUyQk9ydnZYY3RKaFpIUFFYN29zeDJmZ3hFWmk3dVdxdTRRMGNtWFRQJTJGRHVWYlowM01uOGVhd2tod1RvSmdtMldTRUROZzQ2VnNTVm8lM0Q; _uac=1660185417; PHPSESSID=88c0cf143ce50a16cb145ce801f02042; __utmc=138951332; __gads=ID=b72c7f64ff0eed03:T=1660142488:S=ALNI_MZOMl2wLWKK1PkfpsQlEMXCFP0rZQ; __gpi=UID=000005705a19ab1f:T=1660142488:RT=1660226675:S=ALNI_MbiBFj7sczvIEcovG6Rqp-_TzsejA; __utma=138951332.1737302757.1660142488.1660226675.1660229253.4; __utmt=1; __utmb=138951332.1.10.1660229253',\n",
    "    'cache-control': 'max-age=0',\n",
    "    'sec-ch-ua': '\"Chromium\";v=\"104\", \" Not A;Brand\";v=\"99\", \"Google Chrome\";v=\"104\"',\n",
    "    'sec-ch-ua-mobile': '?0',\n",
    "    'sec-ch-ua-platform': '\"Windows\"',\n",
    "    'origin': 'https://fundamentus.com.br',\n",
    "    'upgrade-insecure-requests': '1',\n",
    "    'dnt': '1',\n",
    "    'content-type': 'application/x-www-form-urlencoded',\n",
    "    'user-agent': 'Mozilla/5.0 (Windows NT 10.0; Win64; x64) AppleWebKit/537.36 (KHTML, like Gecko) Chrome/104.0.0.0 Safari/537.36',\n",
    "    'accept': 'text/html,application/xhtml+xml,application/xml;q=0.9,image/avif,image/webp,image/apng,*/*;q=0.8,application/signed-exchange;v=b3;q=0.9',\n",
    "    'sec-fetch-site': 'same-origin',\n",
    "    'sec-fetch-mode': 'navigate',\n",
    "    'sec-fetch-user': '?1',\n",
    "    'sec-fetch-dest': 'document',\n",
    "    'referer': 'https://fundamentus.com.br/fii_buscaavancada.php',\n",
    "    'accept-language': 'pt-BR,pt;q=0.9,en-US;q=0.8,en;q=0.7',\n",
    "}\n",
    "\n",
    "data = 'ffo_y_min=&ffo_y_max=&divy_min=&divy_max=&pvp_min=&pvp_max=&mk_cap_min=&mk_cap_max=&qtd_imoveis_min=&qtd_imoveis_max=&preco_m2_min=&preco_m2_max=&aluguel_m2_min=&aluguel_m2_max=&cap_rate_min=&cap_rate_max=&vacancia_min=&vacancia_max=&segmento=&negociada=ON&x=28&y=20'\n",
    "\n",
    "response = requests.post('https://fundamentus.com.br/fii_resultado.php', cookies=cookies, headers=headers, data=data)"
   ]
  },
  {
   "cell_type": "code",
   "execution_count": 4,
   "metadata": {},
   "outputs": [],
   "source": [
    "pagina = BeautifulSoup(response.text,'html.parser')\n",
    "tabelaBody = pagina.find_all('table', attrs={'id' : 'tabelaResultado'})"
   ]
  },
  {
   "cell_type": "code",
   "execution_count": 5,
   "metadata": {},
   "outputs": [
    {
     "name": "stdout",
     "output_type": "stream",
     "text": [
      "805232.3092105263\n"
     ]
    }
   ],
   "source": [
    "#Calculo da Média de liquidez dos FII\n",
    "import statistics\n",
    "liquidez_dos_fii = []\n",
    "for fii in range(1, len(tabelaBody[0].find_all('tr'))):\n",
    "    liquidez_dos_fii.append(float(tabelaBody[0].find_all('tr')[fii].find_all('td')[7].text.replace('.','')))\n",
    "liquidez_media = statistics.fmean(liquidez_dos_fii)\n",
    "print(liquidez_media)\n"
   ]
  },
  {
   "cell_type": "markdown",
   "metadata": {},
   "source": [
    "CABEÇAÇHOS\n",
    "Papel\n",
    "Segmento\n",
    "Cotação\n",
    "Dividend Yield\n",
    "P/VP\n",
    "Valor de Mercado\n",
    "Liquidez\n",
    "Cap Rate"
   ]
  },
  {
   "cell_type": "code",
   "execution_count": 6,
   "metadata": {},
   "outputs": [],
   "source": [
    "AuxSegmento = []\n",
    "for papel in range(1, len(tabelaBody[0].find_all('tr'))):\n",
    "    _Segmento = tabelaBody[0].find_all('tr')[papel].find_all('td')[1].text\n",
    "    if _Segmento != '':\n",
    "        if _Segmento not in AuxSegmento:\n",
    "            AuxSegmento.append(_Segmento)\n"
   ]
  },
  {
   "cell_type": "code",
   "execution_count": 7,
   "metadata": {},
   "outputs": [],
   "source": [
    "Papel = []\n",
    "Segmento = []\n",
    "Cotação = []\n",
    "Dividend_Yield = []\n",
    "P_Vp = []\n",
    "Valor_de_Mercado = []\n",
    "Liquidez = []\n",
    "Cap_Rate = []\n",
    "\n",
    "FII_Dict = {\n",
    "'Segmento' : Segmento,\n",
    "'Papel' : Papel,\n",
    "'Cotação' : Cotação,\n",
    "'P/VP' : P_Vp,\n",
    "'Dividend Yield' : Dividend_Yield,\n",
    "'Valor de Mercado' : Valor_de_Mercado,\n",
    "'Liquidez' : Liquidez,\n",
    "'Cap Rate' : Cap_Rate\n",
    "}"
   ]
  },
  {
   "cell_type": "code",
   "execution_count": 8,
   "metadata": {},
   "outputs": [],
   "source": [
    "#print(tabelaBody[0].find_all('tr')[1].find_all('td')[0].text) Papel\n",
    "#print(tabelaBody[0].find_all('tr')[1].find_all('td')[1].text) Segmento\n",
    "#print(tabelaBody[0].find_all('tr')[1].find_all('td')[2].text) Cotação\n",
    "#print(tabelaBody[0].find_all('tr')[1].find_all('td')[4].text) DY > inflacao12M\n",
    "#print(tabelaBody[0].find_all('tr')[1].find_all('td')[5].text) PVP < 1\n",
    "#print(tabelaBody[0].find_all('tr')[1].find_all('td')[6].text) Valor Mercado\n",
    "#print(tabelaBody[0].find_all('tr')[1].find_all('td')[7].text) liquidez > liquidez_media\n",
    "#print(tabelaBody[0].find_all('tr')[1].find_all('td')[11].text) Cap rate\n"
   ]
  },
  {
   "cell_type": "code",
   "execution_count": 9,
   "metadata": {},
   "outputs": [
    {
     "name": "stdout",
     "output_type": "stream",
     "text": [
      "Títulos e Val. Mob.\n",
      "Papel encontrado: VGIP11\n",
      "Lajes Corporativas\n",
      "Papel encontrado: BBPO11\n",
      "Híbrido\n",
      "Papel encontrado: ARCT11\n",
      "Outros\n",
      "Papel encontrado: URPR11\n"
     ]
    }
   ],
   "source": [
    "for setor in range(len(AuxSegmento)):\n",
    "    temp_idx = -1\n",
    "    area = AuxSegmento[setor]\n",
    "    old_DY = 0.0\n",
    "    for papel in range(1, len(tabelaBody[0].find_all('tr'))):\n",
    "        _Liquidez = float(tabelaBody[0].find_all('tr')[papel].find_all('td')[7].text.replace('.',''))\n",
    "        if _Liquidez > liquidez_media:\n",
    "            new_DY = float(tabelaBody[0].find_all('tr')[papel].find_all('td')[4].text[:-1].replace(',','.'))\n",
    "            if new_DY >= inflacao12M:\n",
    "                if area == tabelaBody[0].find_all('tr')[papel].find_all('td')[1].text:\n",
    "                    if new_DY > old_DY:\n",
    "                        old_DY = new_DY\n",
    "                        temp_idx = papel\n",
    "    if temp_idx != -1:\n",
    "        print(area)\n",
    "        print('Papel encontrado:',tabelaBody[0].find_all('tr')[temp_idx].find_all('td')[0].text)\n",
    "        Segmento.append(tabelaBody[0].find_all('tr')[temp_idx].find_all('td')[1].text)\n",
    "        Papel.append(tabelaBody[0].find_all('tr')[temp_idx].find_all('td')[0].text)\n",
    "        Cotação.append(tabelaBody[0].find_all('tr')[temp_idx].find_all('td')[2].text)\n",
    "        Dividend_Yield.append(float(tabelaBody[0].find_all('tr')[temp_idx].find_all('td')[4].text[:-1].replace(',','.')))\n",
    "        P_Vp.append(float(tabelaBody[0].find_all('tr')[temp_idx].find_all('td')[5].text.replace(',','.')))\n",
    "        Valor_de_Mercado.append(tabelaBody[0].find_all('tr')[temp_idx].find_all('td')[6].text)\n",
    "        Liquidez.append(float(tabelaBody[0].find_all('tr')[temp_idx].find_all('td')[7].text.replace('.','')))\n",
    "        Cap_Rate.append(tabelaBody[0].find_all('tr')[temp_idx].find_all('td')[11].text)\n"
   ]
  },
  {
   "cell_type": "code",
   "execution_count": 10,
   "metadata": {},
   "outputs": [
    {
     "data": {
      "text/html": [
       "<div>\n",
       "<style scoped>\n",
       "    .dataframe tbody tr th:only-of-type {\n",
       "        vertical-align: middle;\n",
       "    }\n",
       "\n",
       "    .dataframe tbody tr th {\n",
       "        vertical-align: top;\n",
       "    }\n",
       "\n",
       "    .dataframe thead th {\n",
       "        text-align: right;\n",
       "    }\n",
       "</style>\n",
       "<table border=\"1\" class=\"dataframe\">\n",
       "  <thead>\n",
       "    <tr style=\"text-align: right;\">\n",
       "      <th></th>\n",
       "      <th>Segmento</th>\n",
       "      <th>Papel</th>\n",
       "      <th>Cotação</th>\n",
       "      <th>P/VP</th>\n",
       "      <th>Dividend Yield</th>\n",
       "      <th>Valor de Mercado</th>\n",
       "      <th>Liquidez</th>\n",
       "      <th>Cap Rate</th>\n",
       "    </tr>\n",
       "  </thead>\n",
       "  <tbody>\n",
       "    <tr>\n",
       "      <th>2</th>\n",
       "      <td>Híbrido</td>\n",
       "      <td>ARCT11</td>\n",
       "      <td>103,29</td>\n",
       "      <td>1.03</td>\n",
       "      <td>16.60</td>\n",
       "      <td>383.017.000</td>\n",
       "      <td>2517300.0</td>\n",
       "      <td>3,77%</td>\n",
       "    </tr>\n",
       "    <tr>\n",
       "      <th>1</th>\n",
       "      <td>Lajes Corporativas</td>\n",
       "      <td>BBPO11</td>\n",
       "      <td>84,04</td>\n",
       "      <td>0.84</td>\n",
       "      <td>11.20</td>\n",
       "      <td>1.337.890.000</td>\n",
       "      <td>1332060.0</td>\n",
       "      <td>15,20%</td>\n",
       "    </tr>\n",
       "    <tr>\n",
       "      <th>3</th>\n",
       "      <td>Outros</td>\n",
       "      <td>URPR11</td>\n",
       "      <td>102,52</td>\n",
       "      <td>1.02</td>\n",
       "      <td>18.34</td>\n",
       "      <td>1.010.670.000</td>\n",
       "      <td>5509250.0</td>\n",
       "      <td>0,00%</td>\n",
       "    </tr>\n",
       "    <tr>\n",
       "      <th>0</th>\n",
       "      <td>Títulos e Val. Mob.</td>\n",
       "      <td>VGIP11</td>\n",
       "      <td>92,15</td>\n",
       "      <td>1.00</td>\n",
       "      <td>17.26</td>\n",
       "      <td>1.086.190.000</td>\n",
       "      <td>3692000.0</td>\n",
       "      <td>0,00%</td>\n",
       "    </tr>\n",
       "  </tbody>\n",
       "</table>\n",
       "</div>"
      ],
      "text/plain": [
       "              Segmento   Papel Cotação  P/VP  Dividend Yield Valor de Mercado  \\\n",
       "2              Híbrido  ARCT11  103,29  1.03           16.60      383.017.000   \n",
       "1   Lajes Corporativas  BBPO11   84,04  0.84           11.20    1.337.890.000   \n",
       "3               Outros  URPR11  102,52  1.02           18.34    1.010.670.000   \n",
       "0  Títulos e Val. Mob.  VGIP11   92,15  1.00           17.26    1.086.190.000   \n",
       "\n",
       "    Liquidez Cap Rate  \n",
       "2  2517300.0    3,77%  \n",
       "1  1332060.0   15,20%  \n",
       "3  5509250.0    0,00%  \n",
       "0  3692000.0    0,00%  "
      ]
     },
     "execution_count": 10,
     "metadata": {},
     "output_type": "execute_result"
    }
   ],
   "source": [
    "import pandas as pd\n",
    "tabelaFII = pd.DataFrame(FII_Dict)\n",
    "tabelaFII.sort_values(by=['Papel'], ascending=True)"
   ]
  },
  {
   "cell_type": "code",
   "execution_count": 11,
   "metadata": {},
   "outputs": [
    {
     "name": "stdout",
     "output_type": "stream",
     "text": [
      "O total desta carteira é de R$382.0\n"
     ]
    }
   ],
   "source": [
    "totalCarteira = 0\n",
    "for i in range(len(list(FII_Dict.values())[2])):\n",
    "    cotacao = float(list(FII_Dict.values())[2][i].replace('.','').replace(',','.'))\n",
    "    totalCarteira = totalCarteira + cotacao\n",
    "print('O total desta carteira é de R$' + str(round(totalCarteira,2)))"
   ]
  }
 ],
 "metadata": {
  "kernelspec": {
   "display_name": "Python 3.10.5 64-bit",
   "language": "python",
   "name": "python3"
  },
  "language_info": {
   "codemirror_mode": {
    "name": "ipython",
    "version": 3
   },
   "file_extension": ".py",
   "mimetype": "text/x-python",
   "name": "python",
   "nbconvert_exporter": "python",
   "pygments_lexer": "ipython3",
   "version": "3.10.5"
  },
  "orig_nbformat": 4,
  "vscode": {
   "interpreter": {
    "hash": "d99a3f7b344b3c3107482760db15f42178bfad658d282ab0a919b76809e13cb5"
   }
  }
 },
 "nbformat": 4,
 "nbformat_minor": 2
}
