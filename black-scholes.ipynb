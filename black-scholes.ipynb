{
 "cells": [
  {
   "cell_type": "code",
   "execution_count": null,
   "metadata": {},
   "outputs": [],
   "source": [
    "from scipy.stats import norm\n",
    "import math\n",
    "\n",
    "def black_scholes(call_put_flag, S, K, T, r, v):\n",
    "    d1 = (math.log(S / K) + (r + v ** 2 / 2) * T) / (v * math.sqrt(T))\n",
    "    d2 = d1 - v * math.sqrt(T)\n",
    "    if call_put_flag == 'c':\n",
    "        return S * norm.cdf(d1) - K * math.exp(-r * T) * norm.cdf(d2)\n",
    "    elif call_put_flag == 'p':\n",
    "        return K * math.exp(-r * T) * norm.cdf(-d2) - S * norm.cdf(-d1)\n",
    "    else:\n",
    "        print(\"Invalid option type\")\n",
    "\n",
    "\"\"\"Here, call_put_flag is a string parameter that specifies \n",
    "whether the option is a call or put option,\n",
    "with \"c\" representing a call option\n",
    "and \"p\" representing a put option.\n",
    "S is the current stock price,\n",
    "K is the option's strike price,\n",
    "T is the time to expiration (in years),\n",
    "r is the risk-free interest rate,\n",
    "and v is the volatility of the underlying stock.\n",
    "\n",
    "The d1 and d2 variables are intermediate calculations used in the Black-Scholes formula,\n",
    "which are computed using the above equation. Finally, the function returns the theoretical\n",
    "option value using the norm.cdf() function from the scipy.stats module,\n",
    "which calculates the cumulative distribution function of a normal distribution.\"\"\""
   ]
  }
 ],
 "metadata": {
  "language_info": {
   "name": "python"
  },
  "orig_nbformat": 4
 },
 "nbformat": 4,
 "nbformat_minor": 2
}
