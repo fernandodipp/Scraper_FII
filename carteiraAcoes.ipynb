{
 "cells": [
  {
   "attachments": {},
   "cell_type": "markdown",
   "metadata": {},
   "source": [
    "Bancos<br>\n",
    "Energia<br>\n",
    "Saneamento<br>\n",
    "Seguros<br>\n",
    "Telecom"
   ]
  },
  {
   "attachments": {},
   "cell_type": "markdown",
   "metadata": {},
   "source": [
    "<option value=\"2\">Água e Saneamento</option>\n",
    "<option value=\"14\">Energia Elétrica</option>\n",
    "<option value=\"20\">Intermediários Financeiros</option>\n",
    "<option value=\"25\">Medicamentos e Outros Produtos</option>\n",
    "<option value=\"31\">Previdência e Seguros</option>\n",
    "<option value=\"40\">Telecomunicações</option>"
   ]
  },
  {
   "cell_type": "code",
   "execution_count": 17,
   "metadata": {},
   "outputs": [],
   "source": [
    "conjuntoSetores = [\n",
    "    2,\n",
    "    14,\n",
    "    20,\n",
    "    25,\n",
    "    31,\n",
    "    40\n",
    "]"
   ]
  },
  {
   "cell_type": "code",
   "execution_count": 18,
   "metadata": {},
   "outputs": [],
   "source": [
    "import requests\n",
    "from bs4 import BeautifulSoup\n",
    "import pandas as pd"
   ]
  },
  {
   "cell_type": "code",
   "execution_count": 19,
   "metadata": {},
   "outputs": [],
   "source": [
    "cookies = {\n",
    "    'PHPSESSID': 'e51e7557eca41c269993b1c873d78681',\n",
    "    '__utma': '138951332.1113371611.1677504583.1677504583.1677504583.1',\n",
    "    '__utmc': '138951332',\n",
    "    '__utmz': '138951332.1677504583.1.1.utmcsr=(direct)|utmccn=(direct)|utmcmd=(none)',\n",
    "    '_fbp': 'fb.2.1677504583154.7771959',\n",
    "    '__gads': 'ID=82d20725f08a03ae-220ab49cb87f003f:T=1677504634:RT=1677504634:S=ALNI_MbYVfxQ6wkZgMAWrOvhOQoLwzXvtA',\n",
    "    '__gpi': 'UID=000009ed7206e02b:T=1677504634:RT=1677504634:S=ALNI_MbC4SURBm-izznUT9BtAfWRPYHbhA',\n",
    "    '__cf_bm': '3wFd5p4dbH0FG4LyWyh3.TZ5kE1xRnhuukZ1bljl21A-1677505632-0-AZQFIt19z1wGfQa/+pSy+ub9NC/o6oH8krHfYqTMLqZySBDe/6Zy4sNUybysuYt3BJoz8YcO20vAsvRKFuACOS1WeszIdLd/qnbFQgUFMXS0zfEyqSLSDJOVykpH8IcV1ySvR/mSD4BKO9HSfkZmr70=',\n",
    "    '_qn': '1',\n",
    "    '_uac': '1677505726',\n",
    "    '__utmt': '1',\n",
    "    '__utmb': '138951332.10.10.1677504583',\n",
    "}\n",
    "\n",
    "headers = {\n",
    "    'authority': 'fundamentus.com.br',\n",
    "    'accept': 'text/html,application/xhtml+xml,application/xml;q=0.9,image/avif,image/webp,image/apng,*/*;q=0.8,application/signed-exchange;v=b3;q=0.7',\n",
    "    'accept-language': 'pt-BR,pt;q=0.9,en-US;q=0.8,en;q=0.7',\n",
    "    'cache-control': 'max-age=0',\n",
    "    # 'cookie': 'PHPSESSID=e51e7557eca41c269993b1c873d78681; __utma=138951332.1113371611.1677504583.1677504583.1677504583.1; __utmc=138951332; __utmz=138951332.1677504583.1.1.utmcsr=(direct)|utmccn=(direct)|utmcmd=(none); _fbp=fb.2.1677504583154.7771959; __gads=ID=82d20725f08a03ae-220ab49cb87f003f:T=1677504634:RT=1677504634:S=ALNI_MbYVfxQ6wkZgMAWrOvhOQoLwzXvtA; __gpi=UID=000009ed7206e02b:T=1677504634:RT=1677504634:S=ALNI_MbC4SURBm-izznUT9BtAfWRPYHbhA; __cf_bm=3wFd5p4dbH0FG4LyWyh3.TZ5kE1xRnhuukZ1bljl21A-1677505632-0-AZQFIt19z1wGfQa/+pSy+ub9NC/o6oH8krHfYqTMLqZySBDe/6Zy4sNUybysuYt3BJoz8YcO20vAsvRKFuACOS1WeszIdLd/qnbFQgUFMXS0zfEyqSLSDJOVykpH8IcV1ySvR/mSD4BKO9HSfkZmr70=; _qn=1; _uac=1677505726; __utmt=1; __utmb=138951332.10.10.1677504583',\n",
    "    'dnt': '1',\n",
    "    'origin': 'https://fundamentus.com.br',\n",
    "    'referer': 'https://fundamentus.com.br/buscaavancada.php',\n",
    "    'sec-ch-ua': '\"Chromium\";v=\"110\", \"Not A(Brand\";v=\"24\", \"Google Chrome\";v=\"110\"',\n",
    "    'sec-ch-ua-mobile': '?0',\n",
    "    'sec-ch-ua-platform': '\"Windows\"',\n",
    "    'sec-fetch-dest': 'document',\n",
    "    'sec-fetch-mode': 'navigate',\n",
    "    'sec-fetch-site': 'same-origin',\n",
    "    'sec-fetch-user': '?1',\n",
    "    'upgrade-insecure-requests': '1',\n",
    "    'user-agent': 'Mozilla/5.0 (Windows NT 10.0; Win64; x64) AppleWebKit/537.36 (KHTML, like Gecko) Chrome/110.0.0.0 Safari/537.36',\n",
    "}\n",
    "\n",
    "data = {\n",
    "    'pl_min': '',\n",
    "    'pl_max': '',\n",
    "    'pvp_min': '',\n",
    "    'pvp_max': '',\n",
    "    'psr_min': '',\n",
    "    'psr_max': '',\n",
    "    'divy_min': '',\n",
    "    'divy_max': '',\n",
    "    'pativos_min': '',\n",
    "    'pativos_max': '',\n",
    "    'pcapgiro_min': '',\n",
    "    'pcapgiro_max': '',\n",
    "    'pebit_min': '',\n",
    "    'pebit_max': '',\n",
    "    'fgrah_min': '',\n",
    "    'fgrah_max': '',\n",
    "    'firma_ebit_min': '',\n",
    "    'firma_ebit_max': '',\n",
    "    'firma_ebitda_min': '',\n",
    "    'firma_ebitda_max': '',\n",
    "    'margemebit_min': '',\n",
    "    'margemebit_max': '',\n",
    "    'margemliq_min': '',\n",
    "    'margemliq_max': '',\n",
    "    'liqcorr_min': '',\n",
    "    'liqcorr_max': '',\n",
    "    'roic_min': '',\n",
    "    'roic_max': '',\n",
    "    'roe_min': '',\n",
    "    'roe_max': '',\n",
    "    'liq_min': '',\n",
    "    'liq_max': '',\n",
    "    'patrim_min': '',\n",
    "    'patrim_max': '',\n",
    "    'divbruta_min': '',\n",
    "    'divbruta_max': '',\n",
    "    'tx_cresc_rec_min': '',\n",
    "    'tx_cresc_rec_max': '',\n",
    "    'setor': '20',\n",
    "    'negociada': 'ON',\n",
    "    'ordem': '1',\n",
    "    'x': '56',\n",
    "    'y': '25',\n",
    "}\n",
    "\n",
    "response = requests.post('https://fundamentus.com.br/resultado.php', cookies=cookies, headers=headers, data=data)"
   ]
  },
  {
   "cell_type": "code",
   "execution_count": 20,
   "metadata": {},
   "outputs": [],
   "source": [
    "pagina = BeautifulSoup(response.text,'html.parser')\n",
    "tabelaBody = pagina.find_all('table', attrs={'id' : 'resultado'})\n"
   ]
  },
  {
   "cell_type": "code",
   "execution_count": 25,
   "metadata": {},
   "outputs": [
    {
     "name": "stdout",
     "output_type": "stream",
     "text": [
      "43\n",
      "\n",
      "Papel\n",
      "Cotação\n",
      "P/L\n",
      "P/VP\n",
      "PSR\n",
      "Div.Yield\n",
      "P/Ativo\n",
      "P/Cap.Giro\n",
      "P/EBIT\n",
      "P/Ativ Circ.Liq\n",
      "EV/EBIT\n",
      "EV/EBITDA\n",
      "Mrg Ebit\n",
      "Mrg. Líq.\n",
      "Liq. Corr.\n",
      "ROIC\n",
      "ROE\n",
      "Liq.2meses\n",
      "Patrim. Líq\n",
      "Dív.Brut/ Patrim.\n",
      "Cresc. Rec.5a\n",
      "\n"
     ]
    }
   ],
   "source": [
    "print(len(tabelaBody[0].find_all('tr')))\n",
    "print(tabelaBody[0].find_all('tr')[0].text)"
   ]
  },
  {
   "cell_type": "code",
   "execution_count": null,
   "metadata": {},
   "outputs": [],
   "source": []
  }
 ],
 "metadata": {
  "kernelspec": {
   "display_name": "Python 3",
   "language": "python",
   "name": "python3"
  },
  "language_info": {
   "codemirror_mode": {
    "name": "ipython",
    "version": 3
   },
   "file_extension": ".py",
   "mimetype": "text/x-python",
   "name": "python",
   "nbconvert_exporter": "python",
   "pygments_lexer": "ipython3",
   "version": "3.8.10"
  },
  "orig_nbformat": 4,
  "vscode": {
   "interpreter": {
    "hash": "916dbcbb3f70747c44a77c7bcd40155683ae19c65e1c03b4aa3499c5328201f1"
   }
  }
 },
 "nbformat": 4,
 "nbformat_minor": 2
}
