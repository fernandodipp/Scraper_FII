{
 "cells": [
  {
   "cell_type": "markdown",
   "metadata": {},
   "source": [
    "https://curlconverter.com/"
   ]
  },
  {
   "cell_type": "code",
   "execution_count": 1,
   "metadata": {},
   "outputs": [],
   "source": [
    "import requests\n",
    "from bs4 import BeautifulSoup\n",
    "import pandas as pd"
   ]
  },
  {
   "cell_type": "code",
   "execution_count": 2,
   "metadata": {},
   "outputs": [],
   "source": [
    "cookies = {\n",
    "    '__utmz': '138951332.1660142488.1.1.utmcsr=(direct)|utmccn=(direct)|utmcmd=(none)',\n",
    "    '_fbp': 'fb.2.1660142488348.1191046686',\n",
    "    '_qn': '1',\n",
    "    'cto_bundle': 'VebMK19PZmF2SG04empBRUxlRTNGdnNTZWFqanZ1R0tXUUc1N1NwUDJnY3dRNkRBSFo0WXFobkthSkt3R2hRWmx5Vnd2MkJpcUFTMnVWS01Vcm16TSUyQlVpR0FkZDA2NHdOdzc4NiUyQk9ydnZYY3RKaFpIUFFYN29zeDJmZ3hFWmk3dVdxdTRRMGNtWFRQJTJGRHVWYlowM01uOGVhd2tod1RvSmdtMldTRUROZzQ2VnNTVm8lM0Q',\n",
    "    '_uac': '1660185417',\n",
    "    'PHPSESSID': '88c0cf143ce50a16cb145ce801f02042',\n",
    "    '__utmc': '138951332',\n",
    "    '__gads': 'ID=b72c7f64ff0eed03:T=1660142488:S=ALNI_MZOMl2wLWKK1PkfpsQlEMXCFP0rZQ',\n",
    "    '__gpi': 'UID=000005705a19ab1f:T=1660142488:RT=1660226675:S=ALNI_MbiBFj7sczvIEcovG6Rqp-_TzsejA',\n",
    "    '__utma': '138951332.1737302757.1660142488.1660226675.1660229253.4',\n",
    "    '__utmt': '1',\n",
    "    '__utmb': '138951332.1.10.1660229253',\n",
    "}\n",
    "\n",
    "headers = {\n",
    "    'Host': 'fundamentus.com.br',\n",
    "    # Requests sorts cookies= alphabetically\n",
    "    # 'Cookie': '__utmz=138951332.1660142488.1.1.utmcsr=(direct)|utmccn=(direct)|utmcmd=(none); _fbp=fb.2.1660142488348.1191046686; _qn=1; cto_bundle=VebMK19PZmF2SG04empBRUxlRTNGdnNTZWFqanZ1R0tXUUc1N1NwUDJnY3dRNkRBSFo0WXFobkthSkt3R2hRWmx5Vnd2MkJpcUFTMnVWS01Vcm16TSUyQlVpR0FkZDA2NHdOdzc4NiUyQk9ydnZYY3RKaFpIUFFYN29zeDJmZ3hFWmk3dVdxdTRRMGNtWFRQJTJGRHVWYlowM01uOGVhd2tod1RvSmdtMldTRUROZzQ2VnNTVm8lM0Q; _uac=1660185417; PHPSESSID=88c0cf143ce50a16cb145ce801f02042; __utmc=138951332; __gads=ID=b72c7f64ff0eed03:T=1660142488:S=ALNI_MZOMl2wLWKK1PkfpsQlEMXCFP0rZQ; __gpi=UID=000005705a19ab1f:T=1660142488:RT=1660226675:S=ALNI_MbiBFj7sczvIEcovG6Rqp-_TzsejA; __utma=138951332.1737302757.1660142488.1660226675.1660229253.4; __utmt=1; __utmb=138951332.1.10.1660229253',\n",
    "    'cache-control': 'max-age=0',\n",
    "    'sec-ch-ua': '\"Chromium\";v=\"104\", \" Not A;Brand\";v=\"99\", \"Google Chrome\";v=\"104\"',\n",
    "    'sec-ch-ua-mobile': '?0',\n",
    "    'sec-ch-ua-platform': '\"Windows\"',\n",
    "    'origin': 'https://fundamentus.com.br',\n",
    "    'upgrade-insecure-requests': '1',\n",
    "    'dnt': '1',\n",
    "    'content-type': 'application/x-www-form-urlencoded',\n",
    "    'user-agent': 'Mozilla/5.0 (Windows NT 10.0; Win64; x64) AppleWebKit/537.36 (KHTML, like Gecko) Chrome/104.0.0.0 Safari/537.36',\n",
    "    'accept': 'text/html,application/xhtml+xml,application/xml;q=0.9,image/avif,image/webp,image/apng,*/*;q=0.8,application/signed-exchange;v=b3;q=0.9',\n",
    "    'sec-fetch-site': 'same-origin',\n",
    "    'sec-fetch-mode': 'navigate',\n",
    "    'sec-fetch-user': '?1',\n",
    "    'sec-fetch-dest': 'document',\n",
    "    'referer': 'https://fundamentus.com.br/fii_buscaavancada.php',\n",
    "    'accept-language': 'pt-BR,pt;q=0.9,en-US;q=0.8,en;q=0.7',\n",
    "}\n",
    "\n",
    "data = 'ffo_y_min=&ffo_y_max=&divy_min=&divy_max=&pvp_min=&pvp_max=&mk_cap_min=&mk_cap_max=&qtd_imoveis_min=&qtd_imoveis_max=&preco_m2_min=&preco_m2_max=&aluguel_m2_min=&aluguel_m2_max=&cap_rate_min=&cap_rate_max=&vacancia_min=&vacancia_max=&segmento=&negociada=ON&x=28&y=20'\n",
    "\n",
    "response = requests.post('https://fundamentus.com.br/fii_resultado.php', cookies=cookies, headers=headers, data=data)\n",
    "pagina = BeautifulSoup(response.text,'html.parser')\n",
    "tabelaBody = pagina.find_all('table', attrs={'id' : 'tabelaResultado'})"
   ]
  },
  {
   "cell_type": "code",
   "execution_count": 3,
   "metadata": {},
   "outputs": [],
   "source": [
    "CarteiraRecomendadaAtiva = [\n",
    "    'KNIP11',\n",
    "    'HCTR11',\n",
    "    'KNCR11',\n",
    "    'IRDM11',\n",
    "    'CPTS11',\n",
    "    'MXRF11',\n",
    "    'RECR11',\n",
    "    'URPR11',\n",
    "    'ARRI11',\n",
    "    'DEVA11'\n",
    "]\n",
    "\n",
    "Papel = []\n",
    "Segmento = []\n",
    "Cotação = []\n",
    "Dividend_Yield = []\n",
    "P_Vp = []\n",
    "maxCompra = []\n",
    "ultimoRendimento = []\n",
    "indexFernando = []\n",
    "\n",
    "FII_Dict = {\n",
    "'Segmento' : Segmento,\n",
    "'Papel' : Papel,\n",
    "'Cotação' : Cotação,\n",
    "'P/VP' : P_Vp,\n",
    "'Últ. Rendimento' : ultimoRendimento,\n",
    "'Dividend Yield' : Dividend_Yield,\n",
    "'Max Compra' : maxCompra,\n",
    "'Meu índice' : indexFernando\n",
    "}"
   ]
  },
  {
   "cell_type": "code",
   "execution_count": 4,
   "metadata": {},
   "outputs": [
    {
     "ename": "IndexError",
     "evalue": "list index out of range",
     "output_type": "error",
     "traceback": [
      "\u001b[0;31m---------------------------------------------------------------------------\u001b[0m",
      "\u001b[0;31mIndexError\u001b[0m                                Traceback (most recent call last)",
      "Cell \u001b[0;32mIn[4], line 5\u001b[0m\n\u001b[1;32m      3\u001b[0m \u001b[39mif\u001b[39;00m _Papel \u001b[39min\u001b[39;00m CarteiraRecomendadaAtiva:\n\u001b[1;32m      4\u001b[0m     response \u001b[39m=\u001b[39m requests\u001b[39m.\u001b[39mpost(\u001b[39m'\u001b[39m\u001b[39mhttps://statusinvest.com.br/fundos-imobiliarios/\u001b[39m\u001b[39m'\u001b[39m\u001b[39m+\u001b[39m_Papel)\n\u001b[0;32m----> 5\u001b[0m     pagina \u001b[39m=\u001b[39m BeautifulSoup(response\u001b[39m.\u001b[39;49mtext,\u001b[39m'\u001b[39;49m\u001b[39mhtml.parser\u001b[39;49m\u001b[39m'\u001b[39;49m)\u001b[39m.\u001b[39;49mfind_all(\u001b[39m'\u001b[39;49m\u001b[39mstrong\u001b[39;49m\u001b[39m'\u001b[39;49m, attrs\u001b[39m=\u001b[39;49m{\u001b[39m'\u001b[39;49m\u001b[39mclass\u001b[39;49m\u001b[39m'\u001b[39;49m : \u001b[39m'\u001b[39;49m\u001b[39mvalue d-inline-block fs-5 fw-900\u001b[39;49m\u001b[39m'\u001b[39;49m})[\u001b[39m0\u001b[39;49m]\u001b[39m.\u001b[39mtext\n\u001b[1;32m      6\u001b[0m     _ultimoRendimento \u001b[39m=\u001b[39m \u001b[39mfloat\u001b[39m(pagina\u001b[39m.\u001b[39mreplace(\u001b[39m'\u001b[39m\u001b[39m,\u001b[39m\u001b[39m'\u001b[39m,\u001b[39m'\u001b[39m\u001b[39m.\u001b[39m\u001b[39m'\u001b[39m))\n\u001b[1;32m      7\u001b[0m     ultimoRendimento\u001b[39m.\u001b[39mappend(\u001b[39mround\u001b[39m(_ultimoRendimento,\u001b[39m2\u001b[39m))\n",
      "\u001b[0;31mIndexError\u001b[0m: list index out of range"
     ]
    }
   ],
   "source": [
    "for papel in range(1, len(tabelaBody[0].find_all('tr'))):\n",
    "    _Papel = tabelaBody[0].find_all('tr')[papel].find_all('td')[0].text\n",
    "    if _Papel in CarteiraRecomendadaAtiva:\n",
    "        response = requests.post('https://statusinvest.com.br/fundos-imobiliarios/'+_Papel)\n",
    "        pagina = BeautifulSoup(response.text,'html.parser').find_all('strong', attrs={'class' : 'value d-inline-block fs-5 fw-900'})[0].text\n",
    "        _ultimoRendimento = float(pagina.replace(',','.'))\n",
    "        ultimoRendimento.append(round(_ultimoRendimento,2))\n",
    "        Segmento.append(tabelaBody[0].find_all('tr')[papel].find_all('td')[1].text)\n",
    "        Papel.append(_Papel)\n",
    "        _Cotação = float(tabelaBody[0].find_all('tr')[papel].find_all('td')[2].text.replace('.','').replace(',','.'))\n",
    "        Cotação.append(_Cotação)\n",
    "        _Dividend_Yield = round((_ultimoRendimento / _Cotação)*100,2)\n",
    "        Dividend_Yield.append(_Dividend_Yield)\n",
    "        _P_vp = float(tabelaBody[0].find_all('tr')[papel].find_all('td')[5].text.replace(',','.'))\n",
    "        P_Vp.append(_P_vp)\n",
    "        maxCompra.append(int(0))\n",
    "        _indexFernando = _Dividend_Yield / _P_vp\n",
    "        indexFernando.append(_indexFernando)\n"
   ]
  },
  {
   "cell_type": "code",
   "execution_count": null,
   "metadata": {},
   "outputs": [],
   "source": [
    "disponivel = 111\n",
    "idx = 0\n",
    "sortedCotacao = Cotação[:]\n",
    "sortedCotacao.sort(reverse=False)\n",
    "\n",
    "while (disponivel >= sortedCotacao[0]):\n",
    "    custo = sortedCotacao[idx]\n",
    "    if disponivel >= custo:\n",
    "        disponivel -= sortedCotacao[idx]\n",
    "        maxCompra[Cotação.index(sortedCotacao[idx])] += 1\n",
    "    idx += 1\n",
    "    if idx > len(Cotação) - 1:\n",
    "        idx = 0\n",
    "\n",
    "tabelaFII = pd.DataFrame(FII_Dict)\n",
    "\n",
    "totalCarteira = 0\n",
    "for i in range(len(list(FII_Dict.values())[2])):\n",
    "    quantidade = list(FII_Dict.values())[6][i]\n",
    "    cotacao = list(FII_Dict.values())[2][i]\n",
    "    totalCarteira += (cotacao * quantidade)\n",
    "\n",
    "\n",
    "rendaPassiva = 0\n",
    "for i in range(len(list(FII_Dict.values())[2])):\n",
    "    quantidade = list(FII_Dict.values())[6][i]\n",
    "    rendimento = list(FII_Dict.values())[4][i]\n",
    "    rendaPassiva += (rendimento * quantidade)"
   ]
  },
  {
   "cell_type": "code",
   "execution_count": null,
   "metadata": {},
   "outputs": [],
   "source": [
    "display(tabelaFII.sort_values(by=['Max Compra'], ascending=False))\n",
    "print('O total desta carteira é de R$' + str(round(totalCarteira,2)))\n",
    "print('A renda passiva projetada é de R$' + str(round(rendaPassiva,2)) + ' ao mês ou ' + str(round(rendaPassiva/totalCarteira*100,2)) + \"% a.m.\")"
   ]
  }
 ],
 "metadata": {
  "kernelspec": {
   "display_name": "Python 3.10.5 64-bit",
   "language": "python",
   "name": "python3"
  },
  "language_info": {
   "codemirror_mode": {
    "name": "ipython",
    "version": 3
   },
   "file_extension": ".py",
   "mimetype": "text/x-python",
   "name": "python",
   "nbconvert_exporter": "python",
   "pygments_lexer": "ipython3",
   "version": "3.10.6"
  },
  "orig_nbformat": 4,
  "vscode": {
   "interpreter": {
    "hash": "d99a3f7b344b3c3107482760db15f42178bfad658d282ab0a919b76809e13cb5"
   }
  }
 },
 "nbformat": 4,
 "nbformat_minor": 2
}
