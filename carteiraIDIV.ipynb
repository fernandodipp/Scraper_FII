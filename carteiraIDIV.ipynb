{
 "cells": [
  {
   "cell_type": "code",
   "execution_count": null,
   "metadata": {},
   "outputs": [],
   "source": [
    "carteira = [\n",
    "\"GGBR4\",\"VALE3\",\"PETR4\",\"PETR3\",\"BBSE3\",\"BBAS3\",\"VIVT3\",\"CMIG4\",\"JBSS3\",\"CPLE6\",\"CSNA3\",\"ITSA4\",\n",
    "\"EGIE3\",\"SANB11\",\"VBBR3\",\"TRPL4\",\"GOAU4\",\"TAEE11\",\"ELET6\",\"BRAP4\",\"B3SA3\",\"ELET3\",\"CPFE3\",\"CMIN3\",\"CMIG3\",\"ENBR3\",\n",
    "\"PSSA3\",\"AURE3\",\"CYRE3\",\"UNIP6\",\"USIM5\"\n",
    "]"
   ]
  }
 ],
 "metadata": {
  "language_info": {
   "name": "python"
  },
  "orig_nbformat": 4
 },
 "nbformat": 4,
 "nbformat_minor": 2
}
