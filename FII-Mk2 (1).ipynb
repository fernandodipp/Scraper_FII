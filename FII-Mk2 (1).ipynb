{
 "cells": [
  {
   "cell_type": "code",
   "execution_count": 11,
   "metadata": {},
   "outputs": [],
   "source": [
    "disponivel = int(input())"
   ]
  },
  {
   "cell_type": "code",
   "execution_count": 12,
   "metadata": {},
   "outputs": [],
   "source": [
    "import requests\n",
    "\n",
    "cookies = {\n",
    "    'PHPSESSID': '2f2916079c18042a3fa48d0446144ee9',\n",
    "    '__utma': '138951332.389080626.1667866440.1667866440.1667866440.1',\n",
    "    '__utmc': '138951332',\n",
    "    '__utmz': '138951332.1667866440.1.1.utmcsr=(direct)|utmccn=(direct)|utmcmd=(none)',\n",
    "    '__utmt': '1',\n",
    "    '_fbp': 'fb.2.1667866439700.71949286',\n",
    "    '__gads': 'ID=8db26b041420dad8-2219ac01367f00ea:T=1667866440:RT=1667866440:S=ALNI_MY9BAIDirD6dBnRXHED7MoadEMmgw',\n",
    "    '__gpi': 'UID=000009d4b582da4e:T=1667866440:RT=1667866440:S=ALNI_MZ-uWrUCQunwtojOq-RszC_T79g4w',\n",
    "    '__cf_bm': 'eMNZl6S8A3GdRcZcJ6vR8Qa1Lq3LXP2ca.HRfbIO6vY-1667866442-0-AY2lFSQNf30Hc8+tQP7Ar7HaI1Lu8I5Esyb0DLcA9ZnUFuNzCLWVGcUWyjCJSmAQgyaGw49k/nL9N/KK46vD4K6uoIwLcvGPEhmYalbxGZkeZTcmprB2sguQXwZRBEIMFg==',\n",
    "    '__utmb': '138951332.2.10.1667866440',\n",
    "}\n",
    "\n",
    "headers = {\n",
    "    'authority': 'fundamentus.com.br',\n",
    "    'accept': 'text/html,application/xhtml+xml,application/xml;q=0.9,image/avif,image/webp,image/apng,*/*;q=0.8,application/signed-exchange;v=b3;q=0.9',\n",
    "    'accept-language': 'pt-BR,pt;q=0.9,en-US;q=0.8,en;q=0.7',\n",
    "    'cache-control': 'no-cache',\n",
    "    # Requests sorts cookies= alphabetically\n",
    "    # 'cookie': 'PHPSESSID=2f2916079c18042a3fa48d0446144ee9; __utma=138951332.389080626.1667866440.1667866440.1667866440.1; __utmc=138951332; __utmz=138951332.1667866440.1.1.utmcsr=(direct)|utmccn=(direct)|utmcmd=(none); __utmt=1; _fbp=fb.2.1667866439700.71949286; __gads=ID=8db26b041420dad8-2219ac01367f00ea:T=1667866440:RT=1667866440:S=ALNI_MY9BAIDirD6dBnRXHED7MoadEMmgw; __gpi=UID=000009d4b582da4e:T=1667866440:RT=1667866440:S=ALNI_MZ-uWrUCQunwtojOq-RszC_T79g4w; __cf_bm=eMNZl6S8A3GdRcZcJ6vR8Qa1Lq3LXP2ca.HRfbIO6vY-1667866442-0-AY2lFSQNf30Hc8+tQP7Ar7HaI1Lu8I5Esyb0DLcA9ZnUFuNzCLWVGcUWyjCJSmAQgyaGw49k/nL9N/KK46vD4K6uoIwLcvGPEhmYalbxGZkeZTcmprB2sguQXwZRBEIMFg==; __utmb=138951332.2.10.1667866440',\n",
    "    'dnt': '1',\n",
    "    'origin': 'https://fundamentus.com.br',\n",
    "    'pragma': 'no-cache',\n",
    "    'referer': 'https://fundamentus.com.br/fii_buscaavancada.php',\n",
    "    'sec-ch-ua': '\"Google Chrome\";v=\"107\", \"Chromium\";v=\"107\", \"Not=A?Brand\";v=\"24\"',\n",
    "    'sec-ch-ua-mobile': '?0',\n",
    "    'sec-ch-ua-platform': '\"Windows\"',\n",
    "    'sec-fetch-dest': 'document',\n",
    "    'sec-fetch-mode': 'navigate',\n",
    "    'sec-fetch-site': 'same-origin',\n",
    "    'sec-fetch-user': '?1',\n",
    "    'upgrade-insecure-requests': '1',\n",
    "    'user-agent': 'Mozilla/5.0 (Windows NT 10.0; Win64; x64) AppleWebKit/537.36 (KHTML, like Gecko) Chrome/107.0.0.0 Safari/537.36',\n",
    "}\n",
    "\n",
    "data = {\n",
    "    'ffo_y_min': '',\n",
    "    'ffo_y_max': '',\n",
    "    'divy_min': '',\n",
    "    'divy_max': '',\n",
    "    'pvp_min': '0.7',\n",
    "    'pvp_max': '0.95',\n",
    "    'mk_cap_min': '',\n",
    "    'mk_cap_max': '',\n",
    "    'qtd_imoveis_min': '',\n",
    "    'qtd_imoveis_max': '',\n",
    "    'preco_m2_min': '',\n",
    "    'preco_m2_max': '',\n",
    "    'aluguel_m2_min': '',\n",
    "    'aluguel_m2_max': '',\n",
    "    'cap_rate_min': '',\n",
    "    'cap_rate_max': '',\n",
    "    'vacancia_min': '',\n",
    "    'vacancia_max': '',\n",
    "    'segmento': '',\n",
    "    'negociada': 'ON',\n",
    "    'x': '9',\n",
    "    'y': '5',\n",
    "}\n",
    "\n",
    "response = requests.post('https://fundamentus.com.br/fii_resultado.php', cookies=cookies, headers=headers, data=data)\n",
    "from bs4 import BeautifulSoup\n",
    "pagina = BeautifulSoup(response.text,'html.parser')\n",
    "tabelaBody = pagina.find_all('table', attrs={'id' : 'tabelaResultado'})"
   ]
  },
  {
   "cell_type": "code",
   "execution_count": 13,
   "metadata": {},
   "outputs": [],
   "source": [
    "Papel = []\n",
    "Segmento = []\n",
    "Cotação = []\n",
    "Provento = []\n",
    "Pvp = []\n",
    "Liquidez = []\n",
    "Performance = []\n",
    "dy = []\n",
    "maxCompra = []\n",
    "alocado = []\n",
    "\n",
    "CarteiraBruta = {\n",
    "    'Segmento' : Segmento,\n",
    "    'Papel' : Papel, \n",
    "    'P/VP' : Pvp,   \n",
    "    'Cotação' : Cotação,\n",
    "    'Liquidez' : Liquidez,\n",
    "    'Provento' : Provento,\n",
    "    'Div Yield' : dy,\n",
    "    'Performance' : Performance,\n",
    "    'Max Compra' : maxCompra,\n",
    "    'Alocado' : alocado\n",
    "}"
   ]
  },
  {
   "cell_type": "code",
   "execution_count": 14,
   "metadata": {},
   "outputs": [],
   "source": [
    "indesejados = [\n",
    "    'HTMX11',\n",
    "    'LFTT11',\n",
    "    'HCRI11',\n",
    "    'KNRE11',\n",
    "    'RBVO11',\n",
    "    'YUFI11',\n",
    "    'FAMB11B'\n",
    "]"
   ]
  },
  {
   "cell_type": "code",
   "execution_count": 15,
   "metadata": {},
   "outputs": [
    {
     "name": "stdout",
     "output_type": "stream",
     "text": [
      "164\n",
      "Excecao DCRA11 <Response [200]>\n"
     ]
    }
   ],
   "source": [
    "from bs4 import BeautifulSoup\n",
    "import time\n",
    "\n",
    "print(len(tabelaBody[0].find_all('tr')))\n",
    "for empresa in range(1, len(tabelaBody[0].find_all('tr'))):\n",
    "    _nome = tabelaBody[0].find_all('tr')[empresa].find_all('td')[0].text\n",
    "    if _nome not in indesejados:\n",
    "        _cotacao = float(tabelaBody[0].find_all('tr')[empresa].find_all('td')[2].text.replace('.','').replace(',','.'))\n",
    "        if _cotacao <= (disponivel * 0.1):\n",
    "            _liquidez = float(tabelaBody[0].find_all('tr')[empresa].find_all('td')[7].text.replace('.','').replace(',','.'))\n",
    "            if _liquidez > int(200000):\n",
    "                _segmento = tabelaBody[0].find_all('tr')[empresa].find_all('td')[1].text\n",
    "                _cotacao = float(tabelaBody[0].find_all('tr')[empresa].find_all('td')[2].text.replace('.','').replace(',','.'))\n",
    "                _pvp = float(tabelaBody[0].find_all('tr')[empresa].find_all('td')[5].text.replace('.','').replace(',','.'))\n",
    "                _liquidez = float(tabelaBody[0].find_all('tr')[empresa].find_all('td')[7].text.replace('.','').replace(',','.'))\n",
    "                try:\n",
    "                    response = ''\n",
    "                    url = 'https://statusinvest.com.br/fundos-imobiliarios/' + _nome\n",
    "                    headers = {'user-agent': 'Mozilla/5.0 (Windows NT 10.0; Win64; x64) AppleWebKit/537.36 (KHTML, like Gecko) Chrome/107.0.0.0 Safari/537.36'}\n",
    "                    response = requests.get(url, headers=headers)\n",
    "                    time.sleep(1)\n",
    "                    pagina = BeautifulSoup(response.text,'html.parser').find_all('strong', attrs={'class' : 'value d-inline-block fs-5 fw-900'})[0].text\n",
    "                    _provento = float(pagina.replace(',','.'))\n",
    "                except:\n",
    "                    print('Excecao',_nome,response)\n",
    "                    _provento = 0\n",
    "                _dy = round(_provento / _cotacao * 100,2)\n",
    "                _performance = round( (_dy * (_liquidez * 2)) / _pvp, 0)\n",
    "\n",
    "                Papel.append(_nome)\n",
    "                Segmento.append(_segmento)\n",
    "                Cotação.append(_cotacao)\n",
    "                Provento.append(_provento)\n",
    "                Pvp.append(_pvp)\n",
    "                Liquidez.append(_liquidez)\n",
    "                Performance.append(_performance)\n",
    "                dy.append(_dy)\n",
    "                maxCompra.append(float(0))\n",
    "                alocado.append(float(0))\n",
    "                "
   ]
  },
  {
   "cell_type": "code",
   "execution_count": 16,
   "metadata": {},
   "outputs": [
    {
     "name": "stdout",
     "output_type": "stream",
     "text": [
      "['Títulos e Val. Mob.', 'Híbrido']\n"
     ]
    }
   ],
   "source": [
    "listaSegmentos = []\n",
    "for i in Segmento:\n",
    "    if i not in listaSegmentos:\n",
    "        listaSegmentos.append(i)\n",
    "print(listaSegmentos)"
   ]
  },
  {
   "cell_type": "code",
   "execution_count": 17,
   "metadata": {},
   "outputs": [
    {
     "name": "stdout",
     "output_type": "stream",
     "text": [
      "Títulos e Val. Mob.\n",
      "MCHF11\n",
      "Híbrido\n",
      "WHGR11\n",
      "['MCHF11', 'WHGR11']\n"
     ]
    }
   ],
   "source": [
    "fiiIndex = []\n",
    "for i in range(len(listaSegmentos)):\n",
    "    tempFII = 0\n",
    "    print(listaSegmentos[i])\n",
    "    for j in range(len(Papel)):\n",
    "        if listaSegmentos[i] == Segmento[j]:\n",
    "            if Performance[j] > tempFII:\n",
    "                tempFII = Performance[j]\n",
    "    try:                \n",
    "        print(Papel[Performance.index(tempFII)])\n",
    "        fiiIndex.append(Papel[Performance.index(tempFII)])\n",
    "    except:\n",
    "        print('Erro')\n",
    "print(fiiIndex)"
   ]
  },
  {
   "cell_type": "code",
   "execution_count": 18,
   "metadata": {},
   "outputs": [
    {
     "name": "stdout",
     "output_type": "stream",
     "text": [
      "10\n",
      "2\n"
     ]
    }
   ],
   "source": [
    "print(len(Papel))\n",
    "while len(fiiIndex) != len(Papel):\n",
    "    for i in range(len(Papel)):\n",
    "        idxoffii = []\n",
    "        for j in fiiIndex:\n",
    "            idxoffii.append(Papel.index(j))\n",
    "        if i not in idxoffii:\n",
    "            try:\n",
    "                Papel.pop(i)\n",
    "                Segmento.pop(i)\n",
    "                Cotação.pop(i)\n",
    "                Provento.pop(i)\n",
    "                Pvp.pop(i)\n",
    "                Liquidez.pop(i)\n",
    "                Performance.pop(i)\n",
    "                dy.pop(i)\n",
    "                maxCompra.pop(i)\n",
    "                alocado.pop(i)\n",
    "            except:\n",
    "                pass\n",
    "print(len(Papel))"
   ]
  },
  {
   "cell_type": "code",
   "execution_count": 19,
   "metadata": {},
   "outputs": [
    {
     "name": "stdout",
     "output_type": "stream",
     "text": [
      "Disponível para investir de R$ 168\n",
      "Saldo de R$ 6.48\n"
     ]
    }
   ],
   "source": [
    "totalGasto = 0\n",
    "idx = 0\n",
    "sortedCotacao = Cotação[:]\n",
    "sortedCotacao.sort(reverse=False)\n",
    "somaCotacao = 0\n",
    "\n",
    "investEqual = disponivel // len(Papel)\n",
    "print('Disponível para investir de R$',disponivel)\n",
    "\n",
    "for i in range(0, len(Papel)):\n",
    "    maxCompra[i] = investEqual // Cotação[i]\n",
    "    totalGasto += round(maxCompra[i] * Cotação[i],2)\n",
    "    disponivel -= round(maxCompra[i] * Cotação[i],2)\n",
    "\n",
    "while (disponivel >= sortedCotacao[0]):\n",
    "    custo = sortedCotacao[idx]\n",
    "    if disponivel >= custo:\n",
    "        disponivel -= sortedCotacao[idx]\n",
    "        totalGasto += custo\n",
    "        maxCompra[Cotação.index(sortedCotacao[idx])] += 1\n",
    "    idx += 1\n",
    "    if idx > len(Cotação) - 1:\n",
    "        idx = 0\n",
    "\n",
    "for k in range(0, len(Papel)):\n",
    "    alocado[k] = maxCompra[k] * Cotação[k]\n",
    "    \n",
    "print('Saldo de R$',round(disponivel,2))"
   ]
  },
  {
   "cell_type": "code",
   "execution_count": 20,
   "metadata": {},
   "outputs": [
    {
     "data": {
      "text/html": [
       "<div>\n",
       "<style scoped>\n",
       "    .dataframe tbody tr th:only-of-type {\n",
       "        vertical-align: middle;\n",
       "    }\n",
       "\n",
       "    .dataframe tbody tr th {\n",
       "        vertical-align: top;\n",
       "    }\n",
       "\n",
       "    .dataframe thead th {\n",
       "        text-align: right;\n",
       "    }\n",
       "</style>\n",
       "<table border=\"1\" class=\"dataframe\">\n",
       "  <thead>\n",
       "    <tr style=\"text-align: right;\">\n",
       "      <th></th>\n",
       "      <th>Segmento</th>\n",
       "      <th>Papel</th>\n",
       "      <th>P/VP</th>\n",
       "      <th>Cotação</th>\n",
       "      <th>Liquidez</th>\n",
       "      <th>Provento</th>\n",
       "      <th>Div Yield</th>\n",
       "      <th>Performance</th>\n",
       "      <th>Max Compra</th>\n",
       "      <th>Alocado</th>\n",
       "    </tr>\n",
       "  </thead>\n",
       "  <tbody>\n",
       "    <tr>\n",
       "      <th>0</th>\n",
       "      <td>Títulos e Val. Mob.</td>\n",
       "      <td>MCHF11</td>\n",
       "      <td>0.92</td>\n",
       "      <td>8.68</td>\n",
       "      <td>1167550.0</td>\n",
       "      <td>0.1</td>\n",
       "      <td>1.15</td>\n",
       "      <td>2918875.0</td>\n",
       "      <td>9.0</td>\n",
       "      <td>78.12</td>\n",
       "    </tr>\n",
       "    <tr>\n",
       "      <th>1</th>\n",
       "      <td>Híbrido</td>\n",
       "      <td>WHGR11</td>\n",
       "      <td>0.84</td>\n",
       "      <td>8.34</td>\n",
       "      <td>526528.0</td>\n",
       "      <td>0.1</td>\n",
       "      <td>1.20</td>\n",
       "      <td>1504366.0</td>\n",
       "      <td>10.0</td>\n",
       "      <td>83.40</td>\n",
       "    </tr>\n",
       "  </tbody>\n",
       "</table>\n",
       "</div>"
      ],
      "text/plain": [
       "              Segmento   Papel  P/VP  Cotação   Liquidez  Provento  Div Yield  \\\n",
       "0  Títulos e Val. Mob.  MCHF11  0.92     8.68  1167550.0       0.1       1.15   \n",
       "1              Híbrido  WHGR11  0.84     8.34   526528.0       0.1       1.20   \n",
       "\n",
       "   Performance  Max Compra  Alocado  \n",
       "0    2918875.0         9.0    78.12  \n",
       "1    1504366.0        10.0    83.40  "
      ]
     },
     "metadata": {},
     "output_type": "display_data"
    },
    {
     "name": "stdout",
     "output_type": "stream",
     "text": [
      "Rendimento projetado de R$ 1.9\n",
      "Aproveitamento de 1.18 % sobre os R$ 161.52\n"
     ]
    }
   ],
   "source": [
    "import pandas as pd\n",
    "tabelaFII = pd.DataFrame(CarteiraBruta)\n",
    "display(tabelaFII.sort_values(by=['Papel'], ascending=True))\n",
    "\n",
    "rendimento = 0\n",
    "for i in range(0, len(Papel)):\n",
    "    provento = list(CarteiraBruta.values())[5][i]\n",
    "    quantidade = list(CarteiraBruta.values())[8][i]\n",
    "    rendimento += float(round((provento*quantidade),2))\n",
    "    #print(list(CarteiraBruta.values())[1][i], float(round((provento*quantidade),2)))\n",
    "print('Rendimento projetado de R$',round(rendimento,2))\n",
    "print('Aproveitamento de',round(rendimento/totalGasto*100,2),'% sobre os R$', round(totalGasto,2))"
   ]
  }
 ],
 "metadata": {
  "kernelspec": {
   "display_name": "Python 3.8.10 64-bit",
   "language": "python",
   "name": "python3"
  },
  "language_info": {
   "codemirror_mode": {
    "name": "ipython",
    "version": 3
   },
   "file_extension": ".py",
   "mimetype": "text/x-python",
   "name": "python",
   "nbconvert_exporter": "python",
   "pygments_lexer": "ipython3",
   "version": "3.10.6"
  },
  "orig_nbformat": 4,
  "vscode": {
   "interpreter": {
    "hash": "916dbcbb3f70747c44a77c7bcd40155683ae19c65e1c03b4aa3499c5328201f1"
   }
  }
 },
 "nbformat": 4,
 "nbformat_minor": 2
}
