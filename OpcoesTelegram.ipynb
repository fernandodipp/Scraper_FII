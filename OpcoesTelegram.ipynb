{
 "cells": [
  {
   "cell_type": "code",
   "execution_count": 2,
   "metadata": {},
   "outputs": [],
   "source": [
    "import requests\n",
    "from bs4 import BeautifulSoup"
   ]
  },
  {
   "cell_type": "code",
   "execution_count": 3,
   "metadata": {},
   "outputs": [],
   "source": [
    "def cotacaoAtual(ticker):#Retorna cotação atual da PETR4\n",
    "    cookies = {\n",
    "        'OTZ': '6926103_68_64_73560_68_416340',\n",
    "        'SID': 'TwhdIz4Q1SP3B7J-km2f-xaiq3HWwc9dU6A3nFHEUpqIav1Ex7pSlCAwXQHz-42o_CKXlg.',\n",
    "        '__Secure-1PSID': 'TwhdIz4Q1SP3B7J-km2f-xaiq3HWwc9dU6A3nFHEUpqIav1EKjEtrapbbOiqszjABPXyyw.',\n",
    "        '__Secure-3PSID': 'TwhdIz4Q1SP3B7J-km2f-xaiq3HWwc9dU6A3nFHEUpqIav1Eh6u-6u1bwmD0ksSvfItSEA.',\n",
    "        'HSID': 'A4pN5chHxcB5md1Uv',\n",
    "        'APISID': 'oVJMj7LxIv5AELVo/AER5Ey5IdMuBWa0yK',\n",
    "        'SSID': 'AP0JJP5nP-3zWKh9p',\n",
    "        'SAPISID': 'JUZiPVNORqSNzLd0/AUqc6WV_MWv0d4Bxp',\n",
    "        '__Secure-1PAPISID': 'JUZiPVNORqSNzLd0/AUqc6WV_MWv0d4Bxp',\n",
    "        '__Secure-3PAPISID': 'JUZiPVNORqSNzLd0/AUqc6WV_MWv0d4Bxp',\n",
    "        'SEARCH_SAMESITE': 'CgQI5pcB',\n",
    "        'NID': '511=FFqtFrNqBCOEVESzU-OY2lMVWBPY07sY61s2vGiEVhE4Zy-2iyXrVzZ1Qw365CbMaI45DUoYvtKxywPClk6e7xFURlv5fNBbGTbuKzVGLZDykTgwA2g1UEN6icW4uZOfxoMlqTen3-hPNJUTwbzIKx5osU6BDbno2ABUhNxaGi15CWjnVNQUwj62TKCeMd5xKcjMmZQHHC_leD6r9H2hYmQCN_weOOmQWcJ__yLK4vvqzf2FGHEDPDartui8XeWPkTNyrXc7XpQow01a_pBD-u4uI92Vz_0BeqkMUPgZgKIz',\n",
    "        'AEC': 'ARSKqsI8F_x5mffL__ZKO0lj5XxwKOPuo8hEOjPQzxWUIFTTbo8FCdHt-Q',\n",
    "        'DV': 'o3HrtBnbFdJfsEu3TBqN0bcVb5BbblhuvY3uL0GCogAAAJBY25rkkIreSAAAAAhSt0bRcateRwAAAOrXM7IaFq81EgAAAA',\n",
    "        '1P_JAR': '2023-03-15-14',\n",
    "        'SIDCC': 'AFvIBn8Pi0i6CShe05qgeWDNZgKpjH6hSK_dQJl13IXolIfVxBuFuKzYn3iVw8gd8Ow4XUSIJc4Z',\n",
    "        '__Secure-1PSIDCC': 'AFvIBn__JzDmmwuGH9dzgBkpHkNm147X1Io4mcISKCNbqAW-2Gc1rXE2cONhk62X3LId9kWENJ9p',\n",
    "        '__Secure-3PSIDCC': 'AFvIBn_zom19_H1EBdMKvfjwPLYr998ephop5YwPzfDX962AvBaITYUIaPWCke9UTxmLfm1HJlql',\n",
    "    }\n",
    "\n",
    "    headers = {\n",
    "        'authority': 'www.google.com',\n",
    "        'accept': 'text/html,application/xhtml+xml,application/xml;q=0.9,image/avif,image/webp,image/apng,*/*;q=0.8,application/signed-exchange;v=b3;q=0.7',\n",
    "        'accept-language': 'pt-BR,pt;q=0.9,en-US;q=0.8,en;q=0.7',\n",
    "        'cache-control': 'max-age=0',\n",
    "        # 'cookie': 'OTZ=6926103_68_64_73560_68_416340; SID=TwhdIz4Q1SP3B7J-km2f-xaiq3HWwc9dU6A3nFHEUpqIav1Ex7pSlCAwXQHz-42o_CKXlg.; __Secure-1PSID=TwhdIz4Q1SP3B7J-km2f-xaiq3HWwc9dU6A3nFHEUpqIav1EKjEtrapbbOiqszjABPXyyw.; __Secure-3PSID=TwhdIz4Q1SP3B7J-km2f-xaiq3HWwc9dU6A3nFHEUpqIav1Eh6u-6u1bwmD0ksSvfItSEA.; HSID=A4pN5chHxcB5md1Uv; APISID=oVJMj7LxIv5AELVo/AER5Ey5IdMuBWa0yK; SSID=AP0JJP5nP-3zWKh9p; SAPISID=JUZiPVNORqSNzLd0/AUqc6WV_MWv0d4Bxp; __Secure-1PAPISID=JUZiPVNORqSNzLd0/AUqc6WV_MWv0d4Bxp; __Secure-3PAPISID=JUZiPVNORqSNzLd0/AUqc6WV_MWv0d4Bxp; SEARCH_SAMESITE=CgQI5pcB; NID=511=FFqtFrNqBCOEVESzU-OY2lMVWBPY07sY61s2vGiEVhE4Zy-2iyXrVzZ1Qw365CbMaI45DUoYvtKxywPClk6e7xFURlv5fNBbGTbuKzVGLZDykTgwA2g1UEN6icW4uZOfxoMlqTen3-hPNJUTwbzIKx5osU6BDbno2ABUhNxaGi15CWjnVNQUwj62TKCeMd5xKcjMmZQHHC_leD6r9H2hYmQCN_weOOmQWcJ__yLK4vvqzf2FGHEDPDartui8XeWPkTNyrXc7XpQow01a_pBD-u4uI92Vz_0BeqkMUPgZgKIz; AEC=ARSKqsI8F_x5mffL__ZKO0lj5XxwKOPuo8hEOjPQzxWUIFTTbo8FCdHt-Q; DV=o3HrtBnbFdJfsEu3TBqN0bcVb5BbblhuvY3uL0GCogAAAJBY25rkkIreSAAAAAhSt0bRcateRwAAAOrXM7IaFq81EgAAAA; 1P_JAR=2023-03-15-14; SIDCC=AFvIBn8Pi0i6CShe05qgeWDNZgKpjH6hSK_dQJl13IXolIfVxBuFuKzYn3iVw8gd8Ow4XUSIJc4Z; __Secure-1PSIDCC=AFvIBn__JzDmmwuGH9dzgBkpHkNm147X1Io4mcISKCNbqAW-2Gc1rXE2cONhk62X3LId9kWENJ9p; __Secure-3PSIDCC=AFvIBn_zom19_H1EBdMKvfjwPLYr998ephop5YwPzfDX962AvBaITYUIaPWCke9UTxmLfm1HJlql',\n",
    "        'dnt': '1',\n",
    "        'sec-ch-ua': '\"Google Chrome\";v=\"111\", \"Not(A:Brand\";v=\"8\", \"Chromium\";v=\"111\"',\n",
    "        'sec-ch-ua-arch': '\"x86\"',\n",
    "        'sec-ch-ua-bitness': '\"64\"',\n",
    "        'sec-ch-ua-full-version': '\"111.0.5563.65\"',\n",
    "        'sec-ch-ua-full-version-list': '\"Google Chrome\";v=\"111.0.5563.65\", \"Not(A:Brand\";v=\"8.0.0.0\", \"Chromium\";v=\"111.0.5563.65\"',\n",
    "        'sec-ch-ua-mobile': '?0',\n",
    "        'sec-ch-ua-model': '\"\"',\n",
    "        'sec-ch-ua-platform': '\"Windows\"',\n",
    "        'sec-ch-ua-platform-version': '\"10.0.0\"',\n",
    "        'sec-ch-ua-wow64': '?0',\n",
    "        'sec-fetch-dest': 'document',\n",
    "        'sec-fetch-mode': 'navigate',\n",
    "        'sec-fetch-site': 'same-origin',\n",
    "        'sec-fetch-user': '?1',\n",
    "        'upgrade-insecure-requests': '1',\n",
    "        'user-agent': 'Mozilla/5.0 (Windows NT 10.0; Win64; x64) AppleWebKit/537.36 (KHTML, like Gecko) Chrome/111.0.0.0 Safari/537.36',\n",
    "        'x-client-data': 'CIa2yQEIorbJAQjEtskBCKmdygEIh/PKAQiTocsBCOeyzAEImvbMAQiJjM0BCLWUzQEIiZbNAQiols0BCOKXzQEI45fNAQjMmM0BCLmZzQEI85nNAQi1ms0BCK6ErQI=',\n",
    "    }\n",
    "\n",
    "    params = {\n",
    "        'q': ticker,\n",
    "    }\n",
    "\n",
    "    response = requests.get('https://www.google.com/search', params=params, cookies=cookies, headers=headers)\n",
    "    cotacao = BeautifulSoup(response.text,'html.parser').find_all('span', attrs={'jsname' : 'vWLAgc'})\n",
    "    cotacao = float(cotacao[0].text.replace(',','.'))\n",
    "    return cotacao"
   ]
  },
  {
   "cell_type": "code",
   "execution_count": 4,
   "metadata": {},
   "outputs": [],
   "source": [
    "def enviarTelegram(mensagem):\n",
    "    import requests\n",
    "    bot_token = '6226292603:AAEhrqCy-tqJMBs1AL5fv564L6efbxLKXns'\n",
    "    chat_id = '-846632622'\n",
    "    message = str(mensagem)\n",
    "\n",
    "    url= 'https://api.telegram.org/bot' + bot_token + '/sendMessage?chat_id=' + chat_id + '&text=' + message\n",
    "    \n",
    "    requests.get(url)\n"
   ]
  },
  {
   "cell_type": "code",
   "execution_count": null,
   "metadata": {},
   "outputs": [],
   "source": [
    "enviarTelegram(cotacaoAtual('petr4'))"
   ]
  }
 ],
 "metadata": {
  "kernelspec": {
   "display_name": "Python 3",
   "language": "python",
   "name": "python3"
  },
  "language_info": {
   "codemirror_mode": {
    "name": "ipython",
    "version": 3
   },
   "file_extension": ".py",
   "mimetype": "text/x-python",
   "name": "python",
   "nbconvert_exporter": "python",
   "pygments_lexer": "ipython3",
   "version": "3.10.6"
  },
  "orig_nbformat": 4
 },
 "nbformat": 4,
 "nbformat_minor": 2
}
