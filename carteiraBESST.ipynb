{
 "cells": [
  {
   "attachments": {},
   "cell_type": "markdown",
   "metadata": {},
   "source": [
    "Bancos<br>\n",
    "Energia<br>\n",
    "Saneamento<br>\n",
    "Seguros<br>\n",
    "Telecom"
   ]
  },
  {
   "attachments": {},
   "cell_type": "markdown",
   "metadata": {},
   "source": [
    "<option value=\"2\">Água e Saneamento</option>\n",
    "<option value=\"14\">Energia Elétrica</option>\n",
    "<option value=\"20\">Intermediários Financeiros</option>\n",
    "<option value=\"31\">Previdência e Seguros</option>\n",
    "<option value=\"40\">Telecomunicações</option>"
   ]
  },
  {
   "cell_type": "code",
   "execution_count": 26,
   "metadata": {},
   "outputs": [],
   "source": [
    "conjuntoSetores = [\n",
    "    2,\n",
    "    14,\n",
    "    20,\n",
    "    31,\n",
    "    40\n",
    "]"
   ]
  },
  {
   "cell_type": "code",
   "execution_count": 27,
   "metadata": {},
   "outputs": [],
   "source": [
    "import requests\n",
    "from bs4 import BeautifulSoup\n",
    "import pandas as pd"
   ]
  },
  {
   "cell_type": "code",
   "execution_count": 28,
   "metadata": {},
   "outputs": [],
   "source": [
    "def htmlSetor(setor):\n",
    "    cookies = {\n",
    "        'PHPSESSID': 'e51e7557eca41c269993b1c873d78681',\n",
    "        '__utma': '138951332.1113371611.1677504583.1677504583.1677504583.1',\n",
    "        '__utmc': '138951332',\n",
    "        '__utmz': '138951332.1677504583.1.1.utmcsr=(direct)|utmccn=(direct)|utmcmd=(none)',\n",
    "        '_fbp': 'fb.2.1677504583154.7771959',\n",
    "        '__gads': 'ID=82d20725f08a03ae-220ab49cb87f003f:T=1677504634:RT=1677504634:S=ALNI_MbYVfxQ6wkZgMAWrOvhOQoLwzXvtA',\n",
    "        '__gpi': 'UID=000009ed7206e02b:T=1677504634:RT=1677504634:S=ALNI_MbC4SURBm-izznUT9BtAfWRPYHbhA',\n",
    "        '__cf_bm': '3wFd5p4dbH0FG4LyWyh3.TZ5kE1xRnhuukZ1bljl21A-1677505632-0-AZQFIt19z1wGfQa/+pSy+ub9NC/o6oH8krHfYqTMLqZySBDe/6Zy4sNUybysuYt3BJoz8YcO20vAsvRKFuACOS1WeszIdLd/qnbFQgUFMXS0zfEyqSLSDJOVykpH8IcV1ySvR/mSD4BKO9HSfkZmr70=',\n",
    "        '_qn': '1',\n",
    "        '_uac': '1677505726',\n",
    "        '__utmt': '1',\n",
    "        '__utmb': '138951332.10.10.1677504583',\n",
    "    }\n",
    "\n",
    "    headers = {\n",
    "        'authority': 'fundamentus.com.br',\n",
    "        'accept': 'text/html,application/xhtml+xml,application/xml;q=0.9,image/avif,image/webp,image/apng,*/*;q=0.8,application/signed-exchange;v=b3;q=0.7',\n",
    "        'accept-language': 'pt-BR,pt;q=0.9,en-US;q=0.8,en;q=0.7',\n",
    "        'cache-control': 'max-age=0',\n",
    "        # 'cookie': 'PHPSESSID=e51e7557eca41c269993b1c873d78681; __utma=138951332.1113371611.1677504583.1677504583.1677504583.1; __utmc=138951332; __utmz=138951332.1677504583.1.1.utmcsr=(direct)|utmccn=(direct)|utmcmd=(none); _fbp=fb.2.1677504583154.7771959; __gads=ID=82d20725f08a03ae-220ab49cb87f003f:T=1677504634:RT=1677504634:S=ALNI_MbYVfxQ6wkZgMAWrOvhOQoLwzXvtA; __gpi=UID=000009ed7206e02b:T=1677504634:RT=1677504634:S=ALNI_MbC4SURBm-izznUT9BtAfWRPYHbhA; __cf_bm=3wFd5p4dbH0FG4LyWyh3.TZ5kE1xRnhuukZ1bljl21A-1677505632-0-AZQFIt19z1wGfQa/+pSy+ub9NC/o6oH8krHfYqTMLqZySBDe/6Zy4sNUybysuYt3BJoz8YcO20vAsvRKFuACOS1WeszIdLd/qnbFQgUFMXS0zfEyqSLSDJOVykpH8IcV1ySvR/mSD4BKO9HSfkZmr70=; _qn=1; _uac=1677505726; __utmt=1; __utmb=138951332.10.10.1677504583',\n",
    "        'dnt': '1',\n",
    "        'origin': 'https://fundamentus.com.br',\n",
    "        'referer': 'https://fundamentus.com.br/buscaavancada.php',\n",
    "        'sec-ch-ua': '\"Chromium\";v=\"110\", \"Not A(Brand\";v=\"24\", \"Google Chrome\";v=\"110\"',\n",
    "        'sec-ch-ua-mobile': '?0',\n",
    "        'sec-ch-ua-platform': '\"Windows\"',\n",
    "        'sec-fetch-dest': 'document',\n",
    "        'sec-fetch-mode': 'navigate',\n",
    "        'sec-fetch-site': 'same-origin',\n",
    "        'sec-fetch-user': '?1',\n",
    "        'upgrade-insecure-requests': '1',\n",
    "        'user-agent': 'Mozilla/5.0 (Windows NT 10.0; Win64; x64) AppleWebKit/537.36 (KHTML, like Gecko) Chrome/110.0.0.0 Safari/537.36',\n",
    "    }\n",
    "\n",
    "    data = {\n",
    "        'pl_min': '',\n",
    "        'pl_max': '',\n",
    "        'pvp_min': '',\n",
    "        'pvp_max': '',\n",
    "        'psr_min': '',\n",
    "        'psr_max': '',\n",
    "        'divy_min': '',\n",
    "        'divy_max': '',\n",
    "        'pativos_min': '',\n",
    "        'pativos_max': '',\n",
    "        'pcapgiro_min': '',\n",
    "        'pcapgiro_max': '',\n",
    "        'pebit_min': '',\n",
    "        'pebit_max': '',\n",
    "        'fgrah_min': '',\n",
    "        'fgrah_max': '',\n",
    "        'firma_ebit_min': '',\n",
    "        'firma_ebit_max': '',\n",
    "        'firma_ebitda_min': '',\n",
    "        'firma_ebitda_max': '',\n",
    "        'margemebit_min': '',\n",
    "        'margemebit_max': '',\n",
    "        'margemliq_min': '',\n",
    "        'margemliq_max': '',\n",
    "        'liqcorr_min': '',\n",
    "        'liqcorr_max': '',\n",
    "        'roic_min': '',\n",
    "        'roic_max': '',\n",
    "        'roe_min': '',\n",
    "        'roe_max': '',\n",
    "        'liq_min': '',\n",
    "        'liq_max': '',\n",
    "        'patrim_min': '',\n",
    "        'patrim_max': '',\n",
    "        'divbruta_min': '',\n",
    "        'divbruta_max': '',\n",
    "        'tx_cresc_rec_min': '',\n",
    "        'tx_cresc_rec_max': '',\n",
    "        'setor': setor,\n",
    "        'negociada': 'ON',\n",
    "        'ordem': '1',\n",
    "        'x': '56',\n",
    "        'y': '25',\n",
    "    }\n",
    "    response = requests.post('https://fundamentus.com.br/resultado.php', cookies=cookies, headers=headers, data=data)    \n",
    "    pagina = BeautifulSoup(response.text,'html.parser')\n",
    "    tabelaBody = pagina.find_all('table', attrs={'id' : 'resultado'})\n",
    "    return tabelaBody"
   ]
  },
  {
   "cell_type": "code",
   "execution_count": 39,
   "metadata": {},
   "outputs": [
    {
     "name": "stdout",
     "output_type": "stream",
     "text": [
      "2 \t 8\n",
      "\n",
      "\n",
      "ORVR3 - SAPR3 - SAPR11 - SAPR4 - CSMG3 - SBSP3 - AMBP3 - 14 \t 62\n",
      "\n",
      "\n",
      "MEGA3 - CBEE3 - LIGT3 - RNEW3 - RNEW11 - RNEW4 - CLSC3 - CLSC4 - NEOE3 - CEBR3 - CEBR6 - CEBR5 - GPAR3 - COCE5 - AURE3 - ENGI4 - CEEB5 - CEEB3 - TRPL4 - CMIG4 - EQMA3B - TAEE11 - TAEE3 - ENGI11 - TAEE4 - CPFE3 - COCE3 - CSRN5 - CSRN6 - REDE3 - CSRN3 - EKTR4 - EKTR3 - CEED3 - TRPL3 - ALUP11 - ALUP4 - ALUP3 - CMIG3 - EQPA3 - ENGI3 - EQTL3 - EGIE3 - ENBR3 - EQPA7 - ENMT3 - AFLT3 - ENMT4 - GEPA3 - ELET3 - GEPA4 - ELET6 - ENEV3 - EMAE4 - CPLE3 - CPLE11 - CPLE6 - LIPR3 - ELET5 - AESB3 - CPLE5 - 20 \t 43\n",
      "\n",
      "\n",
      "BAZA3 - BNBR3 - BGIP4 - DMFN3 - BBAS3 - ABCB4 - BMGB4 - ITSA4 - ITSA3 - BRSR6 - BMEB4 - BEES3 - BBDC3 - BRSR3 - BMEB3 - BEES4 - BRIV3 - BRIV4 - BBDC4 - ITUB3 - BPAC5 - BRBI11 - SANB3 - ITUB4 - SANB11 - RPAD6 - PINE4 - RPAD3 - BRSR5 - SANB4 - RPAD5 - BPAN4 - BPAC11 - BMIN4 - BSLI4 - BSLI3 - CRIV4 - CRIV3 - BMIN3 - BPAC3 - MERC4 - MODL3 - 31 \t 13\n",
      "\n",
      "\n",
      "IRBR3 - WIZC3 - BRGE3 - BRGE8 - BRGE11 - BRGE12 - CXSE3 - BRGE6 - BBSE3 - PSSA3 - CSAB4 - APER3 - 40 \t 10\n",
      "\n",
      "\n",
      "TELB3 - TELB4 - OIBR4 - OIBR3 - FIQE3 - DESK3 - VIVT3 - TIMS3 - BRIT3 - "
     ]
    }
   ],
   "source": [
    "for setor in conjuntoSetores:\n",
    "    htmlSetorizado = htmlSetor(setor)\n",
    "    comprimentoSetor = len(htmlSetorizado[0].find_all('tr'))\n",
    "    print(setor,\"\\t\",comprimentoSetor)\n",
    "    print('\\n')\n",
    "    for i in range(1,comprimentoSetor,1):\n",
    "        print(htmlSetorizado[0].find_all('tr')[i].find_all('td')[0].text,end=' - ')\n"
   ]
  },
  {
   "cell_type": "code",
   "execution_count": 31,
   "metadata": {},
   "outputs": [
    {
     "name": "stdout",
     "output_type": "stream",
     "text": [
      "10\n",
      "TELB3\n"
     ]
    }
   ],
   "source": [
    "print(len(htmlSetorizado[0].find_all('tr')))\n",
    "print(htmlSetorizado[0].find_all('tr')[1].find_all('td')[0].text)"
   ]
  },
  {
   "cell_type": "code",
   "execution_count": null,
   "metadata": {},
   "outputs": [],
   "source": []
  }
 ],
 "metadata": {
  "kernelspec": {
   "display_name": "Python 3",
   "language": "python",
   "name": "python3"
  },
  "language_info": {
   "codemirror_mode": {
    "name": "ipython",
    "version": 3
   },
   "file_extension": ".py",
   "mimetype": "text/x-python",
   "name": "python",
   "nbconvert_exporter": "python",
   "pygments_lexer": "ipython3",
   "version": "3.10.6"
  },
  "orig_nbformat": 4,
  "vscode": {
   "interpreter": {
    "hash": "916dbcbb3f70747c44a77c7bcd40155683ae19c65e1c03b4aa3499c5328201f1"
   }
  }
 },
 "nbformat": 4,
 "nbformat_minor": 2
}
