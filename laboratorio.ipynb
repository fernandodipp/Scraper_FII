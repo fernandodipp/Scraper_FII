{
 "cells": [
  {
   "cell_type": "code",
   "execution_count": 5,
   "metadata": {},
   "outputs": [],
   "source": [
    "import requests\n",
    "from bs4 import BeautifulSoup"
   ]
  },
  {
   "cell_type": "code",
   "execution_count": null,
   "metadata": {},
   "outputs": [],
   "source": [
    "response = requests.get('https://opcoes.net.br/matriz-opcoes-strike-x-vencimento/CALLs/B3SA3')"
   ]
  },
  {
   "cell_type": "code",
   "execution_count": null,
   "metadata": {},
   "outputs": [],
   "source": [
    "pagina = BeautifulSoup(response.text,'html.parser')\n",
    "print(type(pagina.text))"
   ]
  },
  {
   "cell_type": "code",
   "execution_count": null,
   "metadata": {},
   "outputs": [],
   "source": [
    "#/html/body/div[1]/div/form/div[1]/div[1]/h1/select[2]\n",
    "pagina.find_all('body')[0]"
   ]
  },
  {
   "cell_type": "code",
   "execution_count": 3,
   "metadata": {},
   "outputs": [
    {
     "ename": "SyntaxError",
     "evalue": "'break' outside loop (3786288967.py, line 7)",
     "output_type": "error",
     "traceback": [
      "\u001b[0;36m  Cell \u001b[0;32mIn[3], line 7\u001b[0;36m\u001b[0m\n\u001b[0;31m    break\u001b[0m\n\u001b[0m    ^\u001b[0m\n\u001b[0;31mSyntaxError\u001b[0m\u001b[0;31m:\u001b[0m 'break' outside loop\n"
     ]
    }
   ],
   "source": [
    "#The try block will raise an error when trying to write to a read-only file:\n",
    "\n",
    "try:\n",
    "    f.write(\"Lorum Ipsum\")\n",
    "except:\n",
    "    print(\"Something went wrong when writing to the file\")\n",
    "    \n",
    "try:\n",
    "    print(\"Teste\")\n",
    "except:\n",
    "    print(\"Exceção\")\n",
    "\n"
   ]
  },
  {
   "cell_type": "code",
   "execution_count": 13,
   "metadata": {},
   "outputs": [
    {
     "name": "stdout",
     "output_type": "stream",
     "text": [
      "Volume financeiro 22915.000\n",
      "Volatilidade implicita 26.92\n"
     ]
    }
   ],
   "source": [
    "#Volume financeiro\n",
    "#Volatilidade implicita\n",
    "#taxa = dif tempo em dias; strike; cotacao atual\n",
    "#dif tempo em dias\n",
    "#cotacao opcao\n",
    "\n",
    "response = requests.get('https://opcoes.net.br/ITUBE283')\n",
    "pagina = BeautifulSoup(response.text,'html.parser')\n",
    "volFin = pagina.find_all('table', attrs={ 'class' : 'table table-bordered table-condensed top-buffer-20'})[0].find_all('tr')[2].find_all('td')[7].text.replace('.','').replace(',','.')\n",
    "print('Volume financeiro',volFin)\n",
    "volatImpl = pagina.find_all('table', attrs={ 'class' : 'table table-bordered table-condensed top-buffer-20'})[0].find_all('tr')[2].find_all('td')[11].text.replace('.','').replace(',','.')\n",
    "print('Volatilidade implicita',volatImpl)"
   ]
  },
  {
   "cell_type": "code",
   "execution_count": 17,
   "metadata": {},
   "outputs": [
    {
     "name": "stdout",
     "output_type": "stream",
     "text": [
      "0.0023180930976598457\n"
     ]
    }
   ],
   "source": [
    "import math\n",
    "Strike = 74\n",
    "cotacaoACAO = 70\n",
    "diferencaDatas = 24\n",
    "\n",
    "taxa = math.pow(Strike/cotacaoACAO,1/diferencaDatas) -1\n",
    "print(abs(taxa))"
   ]
  }
 ],
 "metadata": {
  "kernelspec": {
   "display_name": "Python 3",
   "language": "python",
   "name": "python3"
  },
  "language_info": {
   "codemirror_mode": {
    "name": "ipython",
    "version": 3
   },
   "file_extension": ".py",
   "mimetype": "text/x-python",
   "name": "python",
   "nbconvert_exporter": "python",
   "pygments_lexer": "ipython3",
   "version": "3.10.6"
  },
  "orig_nbformat": 4
 },
 "nbformat": 4,
 "nbformat_minor": 2
}
