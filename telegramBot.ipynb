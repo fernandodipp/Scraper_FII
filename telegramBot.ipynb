{
 "cells": [
  {
   "cell_type": "code",
   "execution_count": 4,
   "metadata": {},
   "outputs": [
    {
     "data": {
      "text/plain": [
       "<coroutine object Bot.send_message at 0x7fdf9c20a420>"
      ]
     },
     "execution_count": 4,
     "metadata": {},
     "output_type": "execute_result"
    }
   ],
   "source": [
    "import telegram\n",
    "\n",
    "bot_token = '6226292603:AAEhrqCy-tqJMBs1AL5fv564L6efbxLKXns'\n",
    "chat_id = '/z/#-846632622'\n",
    "message = 'Hello, World!'\n",
    "\n",
    "bot = telegram.Bot(token=bot_token)\n",
    "bot.sendMessage(chat_id=chat_id, text=message)\n"
   ]
  },
  {
   "cell_type": "code",
   "execution_count": 6,
   "metadata": {},
   "outputs": [],
   "source": [
    "import requests\n",
    "\n",
    "bot_token = '6226292603:AAEhrqCy-tqJMBs1AL5fv564L6efbxLKXns'\n",
    "chat_id = '-846632622'\n",
    "message = 'Hello, World!'\n",
    "\n",
    "url= 'https://api.telegram.org/bot' + bot_token + '/sendMessage?chat_id=' + chat_id + '&text=' + message\n",
    "#\"https://api.telegram.org/bot6226292603:AAEhrqCy-tqJMBs1AL5fv564L6efbxLKXns/sendMessage?chat_id=-846632622&text=Teste de API\"\n",
    "response = requests.get(url)\n"
   ]
  }
 ],
 "metadata": {
  "kernelspec": {
   "display_name": "Python 3",
   "language": "python",
   "name": "python3"
  },
  "language_info": {
   "codemirror_mode": {
    "name": "ipython",
    "version": 3
   },
   "file_extension": ".py",
   "mimetype": "text/x-python",
   "name": "python",
   "nbconvert_exporter": "python",
   "pygments_lexer": "ipython3",
   "version": "3.10.6"
  },
  "orig_nbformat": 4,
  "vscode": {
   "interpreter": {
    "hash": "916dbcbb3f70747c44a77c7bcd40155683ae19c65e1c03b4aa3499c5328201f1"
   }
  }
 },
 "nbformat": 4,
 "nbformat_minor": 2
}
