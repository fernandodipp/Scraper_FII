{
 "cells": [
  {
   "cell_type": "code",
   "execution_count": null,
   "metadata": {},
   "outputs": [],
   "source": [
    "carteira = [\n",
    "\"ABEV3\",\"B3SA3\",\"BBAS3\",\"BBDC4\",\"BBSE3\",\"BPAC11\",\n",
    "\"ELET3\",\"EQTL3\",\"GGBR4\",\"ITSA4\",\"ITUB4\",\"JBSS3\",\n",
    "\"PETR3\",\"PETR4\",\"PRIO3\",\"RADL3\",\"RAIL3\",\"RDOR3\",\n",
    "\"RENT3\",\"SUZB3\",\"VALE3\",\"WEGE3\"\n",
    "]"
   ]
  }
 ],
 "metadata": {
  "language_info": {
   "name": "python"
  },
  "orig_nbformat": 4
 },
 "nbformat": 4,
 "nbformat_minor": 2
}
